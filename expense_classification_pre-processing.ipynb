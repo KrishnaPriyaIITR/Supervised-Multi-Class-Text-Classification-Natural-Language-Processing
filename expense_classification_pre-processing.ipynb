{
 "cells": [
  {
   "cell_type": "code",
   "execution_count": 1,
   "metadata": {},
   "outputs": [],
   "source": [
    "import logging\n",
    "from numpy import random\n",
    "import re    # for regular expressions \n",
    "import nltk  # for text manipulation \n",
    "import string \n",
    "import warnings \n",
    "import numpy as np \n",
    "import pandas as pd \n",
    "import seaborn as sns \n",
    "import matplotlib.pyplot as plt  \n",
    "from wordcloud import WordCloud # data visualization library\n",
    "#text features can be constructed using assorted techniques – Bag of Words, TF-IDF, and Word Embeddings.\n",
    "from sklearn.feature_extraction.text import TfidfVectorizer, CountVectorizer #tfidf and Bag-of-Words Features.\n",
    "from sklearn.model_selection import train_test_split\n",
    "from sklearn.metrics import accuracy_score, confusion_matrix\n",
    "from nltk.corpus import stopwords\n",
    "import gensim # library for word2vec\n",
    "%matplotlib inline\n",
    "pd.set_option(\"display.max_colwidth\", 200) \n",
    "warnings.filterwarnings(\"ignore\", category=DeprecationWarning)"
   ]
  },
  {
   "cell_type": "code",
   "execution_count": 3,
   "metadata": {},
   "outputs": [],
   "source": [
    "data = pd.read_excel('Description and merchant field to map category - RAK.xlsx')"
   ]
  },
  {
   "cell_type": "code",
   "execution_count": 4,
   "metadata": {},
   "outputs": [],
   "source": [
    "# del data['txn_id']"
   ]
  },
  {
   "cell_type": "code",
   "execution_count": 8,
   "metadata": {},
   "outputs": [
    {
     "data": {
      "text/html": [
       "<div>\n",
       "<style scoped>\n",
       "    .dataframe tbody tr th:only-of-type {\n",
       "        vertical-align: middle;\n",
       "    }\n",
       "\n",
       "    .dataframe tbody tr th {\n",
       "        vertical-align: top;\n",
       "    }\n",
       "\n",
       "    .dataframe thead th {\n",
       "        text-align: right;\n",
       "    }\n",
       "</style>\n",
       "<table border=\"1\" class=\"dataframe\">\n",
       "  <thead>\n",
       "    <tr style=\"text-align: right;\">\n",
       "      <th></th>\n",
       "      <th>txn_id</th>\n",
       "      <th>description</th>\n",
       "      <th>payee_merchant</th>\n",
       "      <th>Category</th>\n",
       "    </tr>\n",
       "  </thead>\n",
       "  <tbody>\n",
       "    <tr>\n",
       "      <th>0</th>\n",
       "      <td>HPATM20171227101224090752085HP</td>\n",
       "      <td>NaN</td>\n",
       "      <td>ATM: UBI MID CORPORATE BR INDORE IN</td>\n",
       "      <td>Category not found</td>\n",
       "    </tr>\n",
       "    <tr>\n",
       "      <th>1</th>\n",
       "      <td>HPVCL2018125133122718952586HP</td>\n",
       "      <td>PROCESS AS PER REQUEST, PLS SUBMIT UR TRAVEL CLAIM FOR EARLIER PERIOD TO PROCESS NEW MONEY REQUEST</td>\n",
       "      <td>Wallet load</td>\n",
       "      <td>Category not found</td>\n",
       "    </tr>\n",
       "    <tr>\n",
       "      <th>2</th>\n",
       "      <td>HPVCT201812610509887694821HP</td>\n",
       "      <td>NaN</td>\n",
       "      <td>Fuel: Daya Petroleum Calicut IN</td>\n",
       "      <td>Category not found</td>\n",
       "    </tr>\n",
       "    <tr>\n",
       "      <th>3</th>\n",
       "      <td>HPVCT201812610513668632314HP</td>\n",
       "      <td>NaN</td>\n",
       "      <td>Surcharge- Fuel: Daya Petroleum Calicut IN</td>\n",
       "      <td>Category not found</td>\n",
       "    </tr>\n",
       "    <tr>\n",
       "      <th>4</th>\n",
       "      <td>HPATM20183304213425556433HP</td>\n",
       "      <td>NaN</td>\n",
       "      <td>ATM: +CORP SEC-31 NOIDA NOIDA IN</td>\n",
       "      <td>Category not found</td>\n",
       "    </tr>\n",
       "  </tbody>\n",
       "</table>\n",
       "</div>"
      ],
      "text/plain": [
       "                           txn_id  \\\n",
       "0  HPATM20171227101224090752085HP   \n",
       "1   HPVCL2018125133122718952586HP   \n",
       "2    HPVCT201812610509887694821HP   \n",
       "3    HPVCT201812610513668632314HP   \n",
       "4     HPATM20183304213425556433HP   \n",
       "\n",
       "                                                                                          description  \\\n",
       "0                                                                                                 NaN   \n",
       "1  PROCESS AS PER REQUEST, PLS SUBMIT UR TRAVEL CLAIM FOR EARLIER PERIOD TO PROCESS NEW MONEY REQUEST   \n",
       "2                                                                                                 NaN   \n",
       "3                                                                                                 NaN   \n",
       "4                                                                                                 NaN   \n",
       "\n",
       "                               payee_merchant            Category  \n",
       "0         ATM: UBI MID CORPORATE BR INDORE IN  Category not found  \n",
       "1                                 Wallet load  Category not found  \n",
       "2             Fuel: Daya Petroleum Calicut IN  Category not found  \n",
       "3  Surcharge- Fuel: Daya Petroleum Calicut IN  Category not found  \n",
       "4            ATM: +CORP SEC-31 NOIDA NOIDA IN  Category not found  "
      ]
     },
     "execution_count": 8,
     "metadata": {},
     "output_type": "execute_result"
    }
   ],
   "source": [
    "data.head()"
   ]
  },
  {
   "cell_type": "code",
   "execution_count": 9,
   "metadata": {},
   "outputs": [],
   "source": [
    "data['description'] = data['description'].str.replace(\"[^a-zA-Z]\",\" \")"
   ]
  },
  {
   "cell_type": "code",
   "execution_count": 10,
   "metadata": {},
   "outputs": [],
   "source": [
    "data['payee_merchant'] = data['payee_merchant'].str.replace(\"[^a-zA-Z]\",\" \")"
   ]
  },
  {
   "cell_type": "code",
   "execution_count": 11,
   "metadata": {
    "scrolled": true
   },
   "outputs": [],
   "source": [
    "data = data[~data['payee_merchant'].str.contains('ATM', na = False)]"
   ]
  },
  {
   "cell_type": "code",
   "execution_count": 12,
   "metadata": {},
   "outputs": [
    {
     "name": "stderr",
     "output_type": "stream",
     "text": [
      "/home/krishna/.local/lib/python3.6/site-packages/ipykernel_launcher.py:1: SettingWithCopyWarning: \n",
      "A value is trying to be set on a copy of a slice from a DataFrame.\n",
      "Try using .loc[row_indexer,col_indexer] = value instead\n",
      "\n",
      "See the caveats in the documentation: http://pandas.pydata.org/pandas-docs/stable/indexing.html#indexing-view-versus-copy\n",
      "  \"\"\"Entry point for launching an IPython kernel.\n"
     ]
    }
   ],
   "source": [
    "data[\"expense_description\"] = data[\"description\"].map(str)+ \" \" +data[\"payee_merchant\"].map(str)"
   ]
  },
  {
   "cell_type": "code",
   "execution_count": 13,
   "metadata": {},
   "outputs": [
    {
     "name": "stderr",
     "output_type": "stream",
     "text": [
      "/home/krishna/.local/lib/python3.6/site-packages/ipykernel_launcher.py:1: SettingWithCopyWarning: \n",
      "A value is trying to be set on a copy of a slice from a DataFrame.\n",
      "Try using .loc[row_indexer,col_indexer] = value instead\n",
      "\n",
      "See the caveats in the documentation: http://pandas.pydata.org/pandas-docs/stable/indexing.html#indexing-view-versus-copy\n",
      "  \"\"\"Entry point for launching an IPython kernel.\n"
     ]
    }
   ],
   "source": [
    "data['expense_description'] = data['expense_description'].apply(lambda x: ' '.join([w for w in x.split() if len(w)>2]))"
   ]
  },
  {
   "cell_type": "code",
   "execution_count": 14,
   "metadata": {},
   "outputs": [
    {
     "name": "stderr",
     "output_type": "stream",
     "text": [
      "/home/krishna/.local/lib/python3.6/site-packages/ipykernel_launcher.py:1: SettingWithCopyWarning: \n",
      "A value is trying to be set on a copy of a slice from a DataFrame.\n",
      "Try using .loc[row_indexer,col_indexer] = value instead\n",
      "\n",
      "See the caveats in the documentation: http://pandas.pydata.org/pandas-docs/stable/indexing.html#indexing-view-versus-copy\n",
      "  \"\"\"Entry point for launching an IPython kernel.\n"
     ]
    }
   ],
   "source": [
    "data['expense_description'] = data['expense_description'].str.replace('nan', '')"
   ]
  },
  {
   "cell_type": "code",
   "execution_count": 22,
   "metadata": {},
   "outputs": [],
   "source": [
    "STOPWORDS = set(stopwords.words('english'))\n",
    "def clean_text(text):\n",
    "    text = text.lower() # lowercase text\n",
    "    text = ' '.join(word for word in text.split() if word not in STOPWORDS) # delete stopwors from text\n",
    "    return text"
   ]
  },
  {
   "cell_type": "code",
   "execution_count": 23,
   "metadata": {},
   "outputs": [
    {
     "name": "stderr",
     "output_type": "stream",
     "text": [
      "/home/krishna/.local/lib/python3.6/site-packages/ipykernel_launcher.py:1: SettingWithCopyWarning: \n",
      "A value is trying to be set on a copy of a slice from a DataFrame.\n",
      "Try using .loc[row_indexer,col_indexer] = value instead\n",
      "\n",
      "See the caveats in the documentation: http://pandas.pydata.org/pandas-docs/stable/indexing.html#indexing-view-versus-copy\n",
      "  \"\"\"Entry point for launching an IPython kernel.\n"
     ]
    }
   ],
   "source": [
    "data['expense_description'] = data['expense_description'].apply(clean_text)"
   ]
  },
  {
   "cell_type": "code",
   "execution_count": 24,
   "metadata": {},
   "outputs": [],
   "source": [
    "data = data.reset_index(drop=True)"
   ]
  },
  {
   "cell_type": "code",
   "execution_count": 25,
   "metadata": {},
   "outputs": [
    {
     "data": {
      "text/html": [
       "<div>\n",
       "<style scoped>\n",
       "    .dataframe tbody tr th:only-of-type {\n",
       "        vertical-align: middle;\n",
       "    }\n",
       "\n",
       "    .dataframe tbody tr th {\n",
       "        vertical-align: top;\n",
       "    }\n",
       "\n",
       "    .dataframe thead th {\n",
       "        text-align: right;\n",
       "    }\n",
       "</style>\n",
       "<table border=\"1\" class=\"dataframe\">\n",
       "  <thead>\n",
       "    <tr style=\"text-align: right;\">\n",
       "      <th></th>\n",
       "      <th>txn_id</th>\n",
       "      <th>description</th>\n",
       "      <th>payee_merchant</th>\n",
       "      <th>Category</th>\n",
       "      <th>expense_description</th>\n",
       "    </tr>\n",
       "  </thead>\n",
       "  <tbody>\n",
       "    <tr>\n",
       "      <th>0</th>\n",
       "      <td>HPVCL2018125133122718952586HP</td>\n",
       "      <td>PROCESS AS PER REQUEST  PLS SUBMIT UR TRAVEL CLAIM FOR EARLIER PERIOD TO PROCESS NEW MONEY REQUEST</td>\n",
       "      <td>Wallet load</td>\n",
       "      <td>Category not found</td>\n",
       "      <td>process per request pls submit travel claim earlier period process new money request wallet load</td>\n",
       "    </tr>\n",
       "    <tr>\n",
       "      <th>1</th>\n",
       "      <td>HPVCT201812610509887694821HP</td>\n",
       "      <td>NaN</td>\n",
       "      <td>Fuel  Daya Petroleum Calicut IN</td>\n",
       "      <td>Category not found</td>\n",
       "      <td>fuel daya petroleum calicut</td>\n",
       "    </tr>\n",
       "    <tr>\n",
       "      <th>2</th>\n",
       "      <td>HPVCT201812610513668632314HP</td>\n",
       "      <td>NaN</td>\n",
       "      <td>Surcharge  Fuel  Daya Petroleum Calicut IN</td>\n",
       "      <td>Category not found</td>\n",
       "      <td>surcharge fuel daya petroleum calicut</td>\n",
       "    </tr>\n",
       "    <tr>\n",
       "      <th>3</th>\n",
       "      <td>HPCTU2018224161563211041797HP</td>\n",
       "      <td>airport to residence</td>\n",
       "      <td>Meru Cabs Head Office</td>\n",
       "      <td>Resident to station</td>\n",
       "      <td>airport residence meru cabs head office</td>\n",
       "    </tr>\n",
       "    <tr>\n",
       "      <th>4</th>\n",
       "      <td>HPVCT2018225641309134132757HP</td>\n",
       "      <td>NaN</td>\n",
       "      <td>Fuel  SHANKAR AGENCIES TIRUNELVELI IN</td>\n",
       "      <td>Category not found</td>\n",
       "      <td>fuel shankar agencies tirunelveli</td>\n",
       "    </tr>\n",
       "  </tbody>\n",
       "</table>\n",
       "</div>"
      ],
      "text/plain": [
       "                          txn_id  \\\n",
       "0  HPVCL2018125133122718952586HP   \n",
       "1   HPVCT201812610509887694821HP   \n",
       "2   HPVCT201812610513668632314HP   \n",
       "3  HPCTU2018224161563211041797HP   \n",
       "4  HPVCT2018225641309134132757HP   \n",
       "\n",
       "                                                                                          description  \\\n",
       "0  PROCESS AS PER REQUEST  PLS SUBMIT UR TRAVEL CLAIM FOR EARLIER PERIOD TO PROCESS NEW MONEY REQUEST   \n",
       "1                                                                                                 NaN   \n",
       "2                                                                                                 NaN   \n",
       "3                                                                                airport to residence   \n",
       "4                                                                                                 NaN   \n",
       "\n",
       "                               payee_merchant             Category  \\\n",
       "0                                 Wallet load   Category not found   \n",
       "1             Fuel  Daya Petroleum Calicut IN   Category not found   \n",
       "2  Surcharge  Fuel  Daya Petroleum Calicut IN   Category not found   \n",
       "3                       Meru Cabs Head Office  Resident to station   \n",
       "4       Fuel  SHANKAR AGENCIES TIRUNELVELI IN   Category not found   \n",
       "\n",
       "                                                                                expense_description  \n",
       "0  process per request pls submit travel claim earlier period process new money request wallet load  \n",
       "1                                                                       fuel daya petroleum calicut  \n",
       "2                                                             surcharge fuel daya petroleum calicut  \n",
       "3                                                           airport residence meru cabs head office  \n",
       "4                                                                 fuel shankar agencies tirunelveli  "
      ]
     },
     "execution_count": 25,
     "metadata": {},
     "output_type": "execute_result"
    }
   ],
   "source": [
    "data.head()"
   ]
  },
  {
   "cell_type": "code",
   "execution_count": 26,
   "metadata": {},
   "outputs": [],
   "source": [
    "# tokenized_description = data['expense_description'].apply(lambda x: x.split()) # tokenizing\n",
    "# tokenized_description.head()"
   ]
  },
  {
   "cell_type": "code",
   "execution_count": 27,
   "metadata": {},
   "outputs": [],
   "source": [
    "# %%time\n",
    "# from nltk.stem.porter import *\n",
    "# stemmer = PorterStemmer()\n",
    "# tokenized_description = tokenized_description.apply(lambda x: [stemmer.stem(i) for i in x]) # stemming"
   ]
  },
  {
   "cell_type": "code",
   "execution_count": 28,
   "metadata": {},
   "outputs": [],
   "source": [
    "# for i in range (len(tokenized_description)):\n",
    "#     tokenized_description[i] = ' '.join(tokenized_description[i])\n",
    "# data['expense_description'] = tokenized_description\n",
    "# data.head()"
   ]
  },
  {
   "cell_type": "code",
   "execution_count": 29,
   "metadata": {},
   "outputs": [],
   "source": [
    "# data.isnull().sum()\n",
    "# data"
   ]
  },
  {
   "cell_type": "code",
   "execution_count": 30,
   "metadata": {},
   "outputs": [],
   "source": [
    "# data.to_csv('Processed_data.csv', encoding='utf-8', index=False)"
   ]
  },
  {
   "cell_type": "code",
   "execution_count": 31,
   "metadata": {
    "scrolled": false
   },
   "outputs": [
    {
     "data": {
      "text/plain": [
       "Category not found                        82805\n",
       "Daily Field Allowance                     28718\n",
       "Boarding                                   5983\n",
       "Local Conveyance                           5488\n",
       "Resident to station                        3172\n",
       "Others                                     2952\n",
       "Tickets (Bus , Train, Local transport)     1802\n",
       "Toll/Parking Charges                       1606\n",
       "Lodging                                    1470\n",
       "Fuel Charges                                987\n",
       "Travel by own vehicle                       672\n",
       "Courier                                     670\n",
       "Telephone/Telefax/Internet                  477\n",
       "Residence from station to return            432\n",
       "Driver Allowance                            369\n",
       "Meal Allowances                             349\n",
       "Fare (All Tickets for bus,train etc.)       346\n",
       "Printing Charges                            184\n",
       "Freight Outward                             137\n",
       "Xerox                                       126\n",
       "Sales Promotion Expenses                     83\n",
       "Travel by Own Vehicle                        71\n",
       "Staff Welfare Expns                          47\n",
       "Travelling Expenses                          23\n",
       "Vehicle Hire Charges                         22\n",
       "Transit Allowance                            15\n",
       "Internet Charges                              7\n",
       "Miscellaneous Expenses                        2\n",
       "Entertainment Expenses                        1\n",
       "Name: Category, dtype: int64"
      ]
     },
     "execution_count": 31,
     "metadata": {},
     "output_type": "execute_result"
    }
   ],
   "source": [
    "data.Category.value_counts()"
   ]
  },
  {
   "cell_type": "code",
   "execution_count": 32,
   "metadata": {},
   "outputs": [
    {
     "name": "stdout",
     "output_type": "stream",
     "text": [
      "<class 'pandas.core.frame.DataFrame'>\n",
      "RangeIndex: 139016 entries, 0 to 139015\n",
      "Data columns (total 5 columns):\n",
      "txn_id                 139016 non-null object\n",
      "description            119069 non-null object\n",
      "payee_merchant         138993 non-null object\n",
      "Category               139016 non-null object\n",
      "expense_description    139016 non-null object\n",
      "dtypes: object(5)\n",
      "memory usage: 5.3+ MB\n"
     ]
    }
   ],
   "source": [
    "data.info()"
   ]
  },
  {
   "cell_type": "code",
   "execution_count": 33,
   "metadata": {},
   "outputs": [],
   "source": [
    "data.columns = data.columns.str.strip()"
   ]
  },
  {
   "cell_type": "code",
   "execution_count": 34,
   "metadata": {},
   "outputs": [
    {
     "data": {
      "text/html": [
       "<div>\n",
       "<style scoped>\n",
       "    .dataframe tbody tr th:only-of-type {\n",
       "        vertical-align: middle;\n",
       "    }\n",
       "\n",
       "    .dataframe tbody tr th {\n",
       "        vertical-align: top;\n",
       "    }\n",
       "\n",
       "    .dataframe thead th {\n",
       "        text-align: right;\n",
       "    }\n",
       "</style>\n",
       "<table border=\"1\" class=\"dataframe\">\n",
       "  <thead>\n",
       "    <tr style=\"text-align: right;\">\n",
       "      <th></th>\n",
       "      <th>txn_id</th>\n",
       "      <th>description</th>\n",
       "      <th>payee_merchant</th>\n",
       "      <th>Category</th>\n",
       "      <th>expense_description</th>\n",
       "    </tr>\n",
       "  </thead>\n",
       "  <tbody>\n",
       "    <tr>\n",
       "      <th>0</th>\n",
       "      <td>HPVCL2018125133122718952586HP</td>\n",
       "      <td>PROCESS AS PER REQUEST  PLS SUBMIT UR TRAVEL CLAIM FOR EARLIER PERIOD TO PROCESS NEW MONEY REQUEST</td>\n",
       "      <td>Wallet load</td>\n",
       "      <td>Category not found</td>\n",
       "      <td>process per request pls submit travel claim earlier period process new money request wallet load</td>\n",
       "    </tr>\n",
       "    <tr>\n",
       "      <th>1</th>\n",
       "      <td>HPVCT201812610509887694821HP</td>\n",
       "      <td>NaN</td>\n",
       "      <td>Fuel  Daya Petroleum Calicut IN</td>\n",
       "      <td>Category not found</td>\n",
       "      <td>fuel daya petroleum calicut</td>\n",
       "    </tr>\n",
       "    <tr>\n",
       "      <th>2</th>\n",
       "      <td>HPVCT201812610513668632314HP</td>\n",
       "      <td>NaN</td>\n",
       "      <td>Surcharge  Fuel  Daya Petroleum Calicut IN</td>\n",
       "      <td>Category not found</td>\n",
       "      <td>surcharge fuel daya petroleum calicut</td>\n",
       "    </tr>\n",
       "    <tr>\n",
       "      <th>3</th>\n",
       "      <td>HPCTU2018224161563211041797HP</td>\n",
       "      <td>airport to residence</td>\n",
       "      <td>Meru Cabs Head Office</td>\n",
       "      <td>Resident to station</td>\n",
       "      <td>airport residence meru cabs head office</td>\n",
       "    </tr>\n",
       "    <tr>\n",
       "      <th>4</th>\n",
       "      <td>HPVCT2018225641309134132757HP</td>\n",
       "      <td>NaN</td>\n",
       "      <td>Fuel  SHANKAR AGENCIES TIRUNELVELI IN</td>\n",
       "      <td>Category not found</td>\n",
       "      <td>fuel shankar agencies tirunelveli</td>\n",
       "    </tr>\n",
       "  </tbody>\n",
       "</table>\n",
       "</div>"
      ],
      "text/plain": [
       "                          txn_id  \\\n",
       "0  HPVCL2018125133122718952586HP   \n",
       "1   HPVCT201812610509887694821HP   \n",
       "2   HPVCT201812610513668632314HP   \n",
       "3  HPCTU2018224161563211041797HP   \n",
       "4  HPVCT2018225641309134132757HP   \n",
       "\n",
       "                                                                                          description  \\\n",
       "0  PROCESS AS PER REQUEST  PLS SUBMIT UR TRAVEL CLAIM FOR EARLIER PERIOD TO PROCESS NEW MONEY REQUEST   \n",
       "1                                                                                                 NaN   \n",
       "2                                                                                                 NaN   \n",
       "3                                                                                airport to residence   \n",
       "4                                                                                                 NaN   \n",
       "\n",
       "                               payee_merchant             Category  \\\n",
       "0                                 Wallet load   Category not found   \n",
       "1             Fuel  Daya Petroleum Calicut IN   Category not found   \n",
       "2  Surcharge  Fuel  Daya Petroleum Calicut IN   Category not found   \n",
       "3                       Meru Cabs Head Office  Resident to station   \n",
       "4       Fuel  SHANKAR AGENCIES TIRUNELVELI IN   Category not found   \n",
       "\n",
       "                                                                                expense_description  \n",
       "0  process per request pls submit travel claim earlier period process new money request wallet load  \n",
       "1                                                                       fuel daya petroleum calicut  \n",
       "2                                                             surcharge fuel daya petroleum calicut  \n",
       "3                                                           airport residence meru cabs head office  \n",
       "4                                                                 fuel shankar agencies tirunelveli  "
      ]
     },
     "execution_count": 34,
     "metadata": {},
     "output_type": "execute_result"
    }
   ],
   "source": [
    "data.head()"
   ]
  },
  {
   "cell_type": "code",
   "execution_count": 35,
   "metadata": {},
   "outputs": [],
   "source": [
    "test = data[data['Category'].isin(['Category not found','Others'])]"
   ]
  },
  {
   "cell_type": "code",
   "execution_count": 36,
   "metadata": {},
   "outputs": [],
   "source": [
    "test.to_csv('test_data.csv', encoding='utf-8', index=False)"
   ]
  },
  {
   "cell_type": "code",
   "execution_count": 37,
   "metadata": {},
   "outputs": [],
   "source": [
    "train = data[~data['Category'].isin(['Category not found','Others'])]"
   ]
  },
  {
   "cell_type": "code",
   "execution_count": 38,
   "metadata": {},
   "outputs": [],
   "source": [
    "train.to_csv('train_data.csv', encoding='utf-8', index=False)"
   ]
  },
  {
   "cell_type": "code",
   "execution_count": 39,
   "metadata": {},
   "outputs": [],
   "source": [
    "train = pd.read_csv('train_data.csv')"
   ]
  },
  {
   "cell_type": "code",
   "execution_count": 40,
   "metadata": {},
   "outputs": [
    {
     "data": {
      "text/html": [
       "<div>\n",
       "<style scoped>\n",
       "    .dataframe tbody tr th:only-of-type {\n",
       "        vertical-align: middle;\n",
       "    }\n",
       "\n",
       "    .dataframe tbody tr th {\n",
       "        vertical-align: top;\n",
       "    }\n",
       "\n",
       "    .dataframe thead th {\n",
       "        text-align: right;\n",
       "    }\n",
       "</style>\n",
       "<table border=\"1\" class=\"dataframe\">\n",
       "  <thead>\n",
       "    <tr style=\"text-align: right;\">\n",
       "      <th></th>\n",
       "      <th>txn_id</th>\n",
       "      <th>description</th>\n",
       "      <th>payee_merchant</th>\n",
       "      <th>Category</th>\n",
       "      <th>expense_description</th>\n",
       "    </tr>\n",
       "  </thead>\n",
       "  <tbody>\n",
       "    <tr>\n",
       "      <th>0</th>\n",
       "      <td>HPVCL2018125133122718952586HP</td>\n",
       "      <td>PROCESS AS PER REQUEST  PLS SUBMIT UR TRAVEL CLAIM FOR EARLIER PERIOD TO PROCESS NEW MONEY REQUEST</td>\n",
       "      <td>Wallet load</td>\n",
       "      <td>Category not found</td>\n",
       "      <td>process per request pls submit travel claim earlier period process new money request wallet load</td>\n",
       "    </tr>\n",
       "    <tr>\n",
       "      <th>1</th>\n",
       "      <td>HPVCT201812610509887694821HP</td>\n",
       "      <td>NaN</td>\n",
       "      <td>Fuel  Daya Petroleum Calicut IN</td>\n",
       "      <td>Category not found</td>\n",
       "      <td>fuel daya petroleum calicut</td>\n",
       "    </tr>\n",
       "    <tr>\n",
       "      <th>2</th>\n",
       "      <td>HPVCT201812610513668632314HP</td>\n",
       "      <td>NaN</td>\n",
       "      <td>Surcharge  Fuel  Daya Petroleum Calicut IN</td>\n",
       "      <td>Category not found</td>\n",
       "      <td>surcharge fuel daya petroleum calicut</td>\n",
       "    </tr>\n",
       "    <tr>\n",
       "      <th>4</th>\n",
       "      <td>HPVCT2018225641309134132757HP</td>\n",
       "      <td>NaN</td>\n",
       "      <td>Fuel  SHANKAR AGENCIES TIRUNELVELI IN</td>\n",
       "      <td>Category not found</td>\n",
       "      <td>fuel shankar agencies tirunelveli</td>\n",
       "    </tr>\n",
       "    <tr>\n",
       "      <th>23</th>\n",
       "      <td>HPVCT2018224102717887296487HP</td>\n",
       "      <td>NaN</td>\n",
       "      <td>HOTEL JAYA KOZHIKODE IN</td>\n",
       "      <td>Category not found</td>\n",
       "      <td>hotel jaya kozhikode</td>\n",
       "    </tr>\n",
       "  </tbody>\n",
       "</table>\n",
       "</div>"
      ],
      "text/plain": [
       "                           txn_id  \\\n",
       "0   HPVCL2018125133122718952586HP   \n",
       "1    HPVCT201812610509887694821HP   \n",
       "2    HPVCT201812610513668632314HP   \n",
       "4   HPVCT2018225641309134132757HP   \n",
       "23  HPVCT2018224102717887296487HP   \n",
       "\n",
       "                                                                                           description  \\\n",
       "0   PROCESS AS PER REQUEST  PLS SUBMIT UR TRAVEL CLAIM FOR EARLIER PERIOD TO PROCESS NEW MONEY REQUEST   \n",
       "1                                                                                                  NaN   \n",
       "2                                                                                                  NaN   \n",
       "4                                                                                                  NaN   \n",
       "23                                                                                                 NaN   \n",
       "\n",
       "                                payee_merchant            Category  \\\n",
       "0                                  Wallet load  Category not found   \n",
       "1              Fuel  Daya Petroleum Calicut IN  Category not found   \n",
       "2   Surcharge  Fuel  Daya Petroleum Calicut IN  Category not found   \n",
       "4        Fuel  SHANKAR AGENCIES TIRUNELVELI IN  Category not found   \n",
       "23                     HOTEL JAYA KOZHIKODE IN  Category not found   \n",
       "\n",
       "                                                                                 expense_description  \n",
       "0   process per request pls submit travel claim earlier period process new money request wallet load  \n",
       "1                                                                        fuel daya petroleum calicut  \n",
       "2                                                              surcharge fuel daya petroleum calicut  \n",
       "4                                                                  fuel shankar agencies tirunelveli  \n",
       "23                                                                              hotel jaya kozhikode  "
      ]
     },
     "execution_count": 40,
     "metadata": {},
     "output_type": "execute_result"
    }
   ],
   "source": [
    "test.head()"
   ]
  },
  {
   "cell_type": "code",
   "execution_count": 41,
   "metadata": {},
   "outputs": [],
   "source": [
    "train1 = train[['expense_description','Category']]\n",
    "# train1[train1['Category'].isin(['Sales Promotion Expenses'])]"
   ]
  },
  {
   "cell_type": "code",
   "execution_count": 42,
   "metadata": {},
   "outputs": [
    {
     "data": {
      "text/html": [
       "<div>\n",
       "<style scoped>\n",
       "    .dataframe tbody tr th:only-of-type {\n",
       "        vertical-align: middle;\n",
       "    }\n",
       "\n",
       "    .dataframe tbody tr th {\n",
       "        vertical-align: top;\n",
       "    }\n",
       "\n",
       "    .dataframe thead th {\n",
       "        text-align: right;\n",
       "    }\n",
       "</style>\n",
       "<table border=\"1\" class=\"dataframe\">\n",
       "  <thead>\n",
       "    <tr style=\"text-align: right;\">\n",
       "      <th></th>\n",
       "      <th>expense_description</th>\n",
       "      <th>Category</th>\n",
       "    </tr>\n",
       "  </thead>\n",
       "  <tbody>\n",
       "    <tr>\n",
       "      <th>0</th>\n",
       "      <td>airport residence meru cabs head office</td>\n",
       "      <td>Resident to station</td>\n",
       "    </tr>\n",
       "    <tr>\n",
       "      <th>1</th>\n",
       "      <td>super tile emporium camelia sales tirupati impex local delhi</td>\n",
       "      <td>Daily Field Allowance</td>\n",
       "    </tr>\n",
       "    <tr>\n",
       "      <th>2</th>\n",
       "      <td>avni tiles tile art office sunny sanitation local delhi</td>\n",
       "      <td>Daily Field Allowance</td>\n",
       "    </tr>\n",
       "    <tr>\n",
       "      <th>3</th>\n",
       "      <td>avni tiles aggrawal kamakshi mkt vijay laxmi local delhi</td>\n",
       "      <td>Daily Field Allowance</td>\n",
       "    </tr>\n",
       "    <tr>\n",
       "      <th>4</th>\n",
       "      <td>avni tiles sanitary aggrawal marble bhatia associates vijay bath local delhi</td>\n",
       "      <td>Daily Field Allowance</td>\n",
       "    </tr>\n",
       "  </tbody>\n",
       "</table>\n",
       "</div>"
      ],
      "text/plain": [
       "                                                            expense_description  \\\n",
       "0                                       airport residence meru cabs head office   \n",
       "1                  super tile emporium camelia sales tirupati impex local delhi   \n",
       "2                       avni tiles tile art office sunny sanitation local delhi   \n",
       "3                      avni tiles aggrawal kamakshi mkt vijay laxmi local delhi   \n",
       "4  avni tiles sanitary aggrawal marble bhatia associates vijay bath local delhi   \n",
       "\n",
       "                Category  \n",
       "0    Resident to station  \n",
       "1  Daily Field Allowance  \n",
       "2  Daily Field Allowance  \n",
       "3  Daily Field Allowance  \n",
       "4  Daily Field Allowance  "
      ]
     },
     "execution_count": 42,
     "metadata": {},
     "output_type": "execute_result"
    }
   ],
   "source": [
    "train1.head()"
   ]
  },
  {
   "cell_type": "code",
   "execution_count": 37,
   "metadata": {},
   "outputs": [],
   "source": [
    "train['Category'] = train['Category'].replace({'Local Conveyance': 'Travelling Expenses', 'Resident to station': 'Travelling Expenses', 'Tickets (Bus , Train, Local transport)': 'Travelling Expenses', 'Toll/Parking Charges': 'Travelling Expenses', 'Fuel Charges': 'Travelling Expenses', 'Travel by own vehicle': 'Travelling Expenses', 'Residence from station to return': 'Travelling Expenses', 'Driver Allowance': 'Travelling Expenses', 'Fare (All Tickets for bus,train etc.)': 'Travelling Expenses', 'Freight Outward': 'Travelling Expenses', 'Travel by Own Vehicle': 'Travelling Expenses', 'Travelling Expenses': 'Travelling Expenses', 'Vehicle Hire Charges': 'Travelling Expenses', 'Transit Allowance': 'Travelling Expenses'})"
   ]
  },
  {
   "cell_type": "code",
   "execution_count": 38,
   "metadata": {},
   "outputs": [],
   "source": [
    "train['Category'] = train['Category'].replace({'Telephone/Telefax/Internet': 'Staff Welfare Expenses', 'Printing Charges': 'Staff Welfare Expenses', 'Xerox': 'Staff Welfare Expenses', 'Staff Welfare Expns': 'Staff Welfare Expenses', 'Internet Charges': 'Staff Welfare Expenses', 'Miscellaneous Expenses': 'Staff Welfare Expenses', 'Entertainment Expenses': 'Staff Welfare Expenses'})"
   ]
  },
  {
   "cell_type": "code",
   "execution_count": 39,
   "metadata": {},
   "outputs": [
    {
     "data": {
      "text/plain": [
       "Daily Field Allowance       28718\n",
       "Travelling Expenses         15142\n",
       "Boarding                     5983\n",
       "Lodging                      1470\n",
       "Staff Welfare Expenses        844\n",
       "Courier                       670\n",
       "Meal Allowances               349\n",
       "Sales Promotion Expenses       83\n",
       "Name: Category, dtype: int64"
      ]
     },
     "execution_count": 39,
     "metadata": {},
     "output_type": "execute_result"
    }
   ],
   "source": [
    "train.Category.value_counts()"
   ]
  },
  {
   "cell_type": "code",
   "execution_count": 40,
   "metadata": {},
   "outputs": [],
   "source": [
    "train.to_csv('train_data_processed.csv', encoding='utf-8', index=False)"
   ]
  },
  {
   "cell_type": "code",
   "execution_count": null,
   "metadata": {},
   "outputs": [],
   "source": []
  }
 ],
 "metadata": {
  "kernelspec": {
   "display_name": "Python 3",
   "language": "python",
   "name": "python3"
  },
  "language_info": {
   "codemirror_mode": {
    "name": "ipython",
    "version": 3
   },
   "file_extension": ".py",
   "mimetype": "text/x-python",
   "name": "python",
   "nbconvert_exporter": "python",
   "pygments_lexer": "ipython3",
   "version": "3.6.8"
  }
 },
 "nbformat": 4,
 "nbformat_minor": 2
}
