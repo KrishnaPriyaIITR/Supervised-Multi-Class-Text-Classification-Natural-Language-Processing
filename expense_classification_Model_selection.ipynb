{
 "cells": [
  {
   "cell_type": "code",
   "execution_count": 76,
   "metadata": {},
   "outputs": [],
   "source": [
    "import logging\n",
    "from numpy import random\n",
    "import re    # for regular expressions \n",
    "import nltk  # for text manipulation \n",
    "import string \n",
    "import warnings \n",
    "import numpy as np \n",
    "import pandas as pd \n",
    "import seaborn as sns \n",
    "import matplotlib.pyplot as plt  \n",
    "from wordcloud import WordCloud # data visualization library\n",
    "#text features can be constructed using assorted techniques – Bag of Words, TF-IDF, and Word Embeddings.\n",
    "from sklearn.feature_extraction.text import TfidfVectorizer, CountVectorizer #tfidf and Bag-of-Words Features.\n",
    "from sklearn.model_selection import train_test_split\n",
    "from sklearn.metrics import accuracy_score, confusion_matrix\n",
    "from nltk.corpus import stopwords\n",
    "import gensim # library for word2vec\n",
    "%matplotlib inline\n",
    "pd.set_option(\"display.max_colwidth\", 200) \n",
    "warnings.filterwarnings(\"ignore\", category=DeprecationWarning)"
   ]
  },
  {
   "cell_type": "code",
   "execution_count": 77,
   "metadata": {},
   "outputs": [],
   "source": [
    "train = pd.read_csv('train_data_processed.csv')"
   ]
  },
  {
   "cell_type": "code",
   "execution_count": 78,
   "metadata": {},
   "outputs": [
    {
     "data": {
      "text/html": [
       "<div>\n",
       "<style scoped>\n",
       "    .dataframe tbody tr th:only-of-type {\n",
       "        vertical-align: middle;\n",
       "    }\n",
       "\n",
       "    .dataframe tbody tr th {\n",
       "        vertical-align: top;\n",
       "    }\n",
       "\n",
       "    .dataframe thead th {\n",
       "        text-align: right;\n",
       "    }\n",
       "</style>\n",
       "<table border=\"1\" class=\"dataframe\">\n",
       "  <thead>\n",
       "    <tr style=\"text-align: right;\">\n",
       "      <th></th>\n",
       "      <th>txn_id</th>\n",
       "      <th>description</th>\n",
       "      <th>payee_merchant</th>\n",
       "      <th>Category</th>\n",
       "      <th>expense_description</th>\n",
       "    </tr>\n",
       "  </thead>\n",
       "  <tbody>\n",
       "    <tr>\n",
       "      <th>0</th>\n",
       "      <td>HPCTU2018224161563211041797HP</td>\n",
       "      <td>airport to residence</td>\n",
       "      <td>Meru Cabs Head Office</td>\n",
       "      <td>Travelling Expenses</td>\n",
       "      <td>airport residence meru cabs head office</td>\n",
       "    </tr>\n",
       "    <tr>\n",
       "      <th>1</th>\n",
       "      <td>HPCTU20183141727182589567887HP</td>\n",
       "      <td>Super tile emporium  Camelia sales  Tirupati impex</td>\n",
       "      <td>local  Delhi</td>\n",
       "      <td>Daily Field Allowance</td>\n",
       "      <td>super tile emporium camelia sales tirupati impex local delhi</td>\n",
       "    </tr>\n",
       "    <tr>\n",
       "      <th>2</th>\n",
       "      <td>HPCTU201822725998634726214HP</td>\n",
       "      <td>Avni Tiles  Tile Art  Office  Sunny sanitation</td>\n",
       "      <td>Local  Delhi</td>\n",
       "      <td>Daily Field Allowance</td>\n",
       "      <td>avni tiles tile art office sunny sanitation local delhi</td>\n",
       "    </tr>\n",
       "    <tr>\n",
       "      <th>3</th>\n",
       "      <td>HPCTU2018312017296722783314HP</td>\n",
       "      <td>Avni tiles  Aggrawal  Kamakshi mkt  Vijay Laxmi</td>\n",
       "      <td>local   Delhi</td>\n",
       "      <td>Daily Field Allowance</td>\n",
       "      <td>avni tiles aggrawal kamakshi mkt vijay laxmi local delhi</td>\n",
       "    </tr>\n",
       "    <tr>\n",
       "      <th>4</th>\n",
       "      <td>HPCTU20183181615331670677816HP</td>\n",
       "      <td>Avni tiles and sanitary  Aggrawal Marble  Bhatia and associates  Vijay bath</td>\n",
       "      <td>Local  Delhi</td>\n",
       "      <td>Daily Field Allowance</td>\n",
       "      <td>avni tiles sanitary aggrawal marble bhatia associates vijay bath local delhi</td>\n",
       "    </tr>\n",
       "    <tr>\n",
       "      <th>5</th>\n",
       "      <td>HPCTU2018312019113386801213HP</td>\n",
       "      <td>Office  Resonanance  Bath Hut  Taneja paints</td>\n",
       "      <td>local Delhi</td>\n",
       "      <td>Daily Field Allowance</td>\n",
       "      <td>office resoance bath hut taneja paints local delhi</td>\n",
       "    </tr>\n",
       "    <tr>\n",
       "      <th>6</th>\n",
       "      <td>HPCTU20183181613542483272675HP</td>\n",
       "      <td>Le season  Bindal ceramics  Sign Marble  Royal saffron</td>\n",
       "      <td>Local  Delhi</td>\n",
       "      <td>Daily Field Allowance</td>\n",
       "      <td>season bindal ceramics sign marble royal saffron local delhi</td>\n",
       "    </tr>\n",
       "    <tr>\n",
       "      <th>7</th>\n",
       "      <td>HPCTU201822735101364413826HP</td>\n",
       "      <td>Shekhar Dayal  Bhatia and associates  Avni tiles</td>\n",
       "      <td>Local  Delhi</td>\n",
       "      <td>Daily Field Allowance</td>\n",
       "      <td>shekhar dayal bhatia associates avni tiles local delhi</td>\n",
       "    </tr>\n",
       "    <tr>\n",
       "      <th>8</th>\n",
       "      <td>HPCTU201822737474227482363HP</td>\n",
       "      <td>Prakash Marble Super tiles emporium  Camelia sales  Tirupati impex</td>\n",
       "      <td>Local  Delhi</td>\n",
       "      <td>Daily Field Allowance</td>\n",
       "      <td>prakash marble super tiles emporium camelia sales tirupati impex local delhi</td>\n",
       "    </tr>\n",
       "    <tr>\n",
       "      <th>9</th>\n",
       "      <td>HPCTU201822730545421584209HP</td>\n",
       "      <td>Vijay Enterprise  Ashiana  GBMS</td>\n",
       "      <td>Local  Delhi</td>\n",
       "      <td>Daily Field Allowance</td>\n",
       "      <td>vijay enterprise ashiana gbms local delhi</td>\n",
       "    </tr>\n",
       "    <tr>\n",
       "      <th>10</th>\n",
       "      <td>HPCTU20183181611525053191918HP</td>\n",
       "      <td>Vijay enterprise  AN sales  Mahavir sanitation  Gogia Bath</td>\n",
       "      <td>Local  Delhi</td>\n",
       "      <td>Daily Field Allowance</td>\n",
       "      <td>vijay enterprise sales mahavir sanitation gogia bath local delhi</td>\n",
       "    </tr>\n",
       "    <tr>\n",
       "      <th>11</th>\n",
       "      <td>HPCTU201831202409516793882HP</td>\n",
       "      <td>Satija  UPSC  Kailash chawla  GBMS</td>\n",
       "      <td>local  Delhi</td>\n",
       "      <td>Daily Field Allowance</td>\n",
       "      <td>satija upsc kailash chawla gbms local delhi</td>\n",
       "    </tr>\n",
       "    <tr>\n",
       "      <th>12</th>\n",
       "      <td>HPCTU2018318155255850342039HP</td>\n",
       "      <td>Amit Marble  Balaji  Vilas Marble  Swastic bath</td>\n",
       "      <td>Local  Delhi</td>\n",
       "      <td>Daily Field Allowance</td>\n",
       "      <td>amit marble balaji vilas marble swastic bath local delhi</td>\n",
       "    </tr>\n",
       "    <tr>\n",
       "      <th>13</th>\n",
       "      <td>HPCTU201831816993582462191HP</td>\n",
       "      <td>sunny sanitation  Avni tiles  KNS</td>\n",
       "      <td>Local  Delhi</td>\n",
       "      <td>Daily Field Allowance</td>\n",
       "      <td>sunny sanitation avni tiles kns local delhi</td>\n",
       "    </tr>\n",
       "    <tr>\n",
       "      <th>14</th>\n",
       "      <td>HPCTU2018318155584810885696HP</td>\n",
       "      <td>Super tile emporium  Camelia sales  Selection Bath Gallery  Variety Bath</td>\n",
       "      <td>Local  Delhi</td>\n",
       "      <td>Daily Field Allowance</td>\n",
       "      <td>super tile emporium camelia sales selection bath gallery variety bath local delhi</td>\n",
       "    </tr>\n",
       "    <tr>\n",
       "      <th>15</th>\n",
       "      <td>HPCTU2018371538463854997851HP</td>\n",
       "      <td>Office Ck decor  Vijay enterprise  GBMS</td>\n",
       "      <td>Local  DELHI</td>\n",
       "      <td>Daily Field Allowance</td>\n",
       "      <td>office decor vijay enterprise gbms local delhi</td>\n",
       "    </tr>\n",
       "    <tr>\n",
       "      <th>16</th>\n",
       "      <td>HPCTU20183181550387808131431HP</td>\n",
       "      <td>Avni tiles  KNS  Mahalaxmi  Kamakshi marketing</td>\n",
       "      <td>Local  Delhi</td>\n",
       "      <td>Daily Field Allowance</td>\n",
       "      <td>avni tiles kns mahalaxmi kamakshi marketing local delhi</td>\n",
       "    </tr>\n",
       "    <tr>\n",
       "      <th>17</th>\n",
       "      <td>HPCTU20183141725177075866386HP</td>\n",
       "      <td>Vijay Enterprise  UPSC  Bath interor  Satija</td>\n",
       "      <td>local   Delhi</td>\n",
       "      <td>Daily Field Allowance</td>\n",
       "      <td>vijay enterprise upsc bath interor satija local delhi</td>\n",
       "    </tr>\n",
       "    <tr>\n",
       "      <th>18</th>\n",
       "      <td>HPCTU201831816034613715661HP</td>\n",
       "      <td>Camelia sales  Bindal ceramics  Ashoka Marble  Super tile emporium</td>\n",
       "      <td>Local  Delhi</td>\n",
       "      <td>Daily Field Allowance</td>\n",
       "      <td>camelia sales bindal ceramics ashoka marble super tile emporium local delhi</td>\n",
       "    </tr>\n",
       "    <tr>\n",
       "      <th>19</th>\n",
       "      <td>HPCTU2018124957289847888381HP</td>\n",
       "      <td>M Oswal  ShivajiNagar     Chamunda Stone  Jag tap Dairy    SK Ceramics  Kalewadi    Shiv Tiles  Rahatani    Suraj Enterprise  Bhosari    Nakoda Marble  Alandi</td>\n",
       "      <td>Fuel</td>\n",
       "      <td>Daily Field Allowance</td>\n",
       "      <td>oswal shivajinagar chamunda stone jag tap dairy ceramics kalewadi shiv tiles rahatani suraj enterprise bhosari nakoda marble alandi fuel</td>\n",
       "    </tr>\n",
       "    <tr>\n",
       "      <th>20</th>\n",
       "      <td>HPCTU2018291915281276364384HP</td>\n",
       "      <td>JATL TOLL PLAZA</td>\n",
       "      <td>Amritsar</td>\n",
       "      <td>Travelling Expenses</td>\n",
       "      <td>jatl toll plaza amritsar</td>\n",
       "    </tr>\n",
       "    <tr>\n",
       "      <th>21</th>\n",
       "      <td>HPCTU2018131126233582625578HP</td>\n",
       "      <td>Local dealers visit  project visit  architect visit   Builder s visit</td>\n",
       "      <td>Petrol Bill</td>\n",
       "      <td>Daily Field Allowance</td>\n",
       "      <td>local dealers visit project visit architect visit builder visit petrol bill</td>\n",
       "    </tr>\n",
       "    <tr>\n",
       "      <th>22</th>\n",
       "      <td>HPCTU2018226642326365521590HP</td>\n",
       "      <td>tea bill</td>\n",
       "      <td>cochin international airport</td>\n",
       "      <td>Meal Allowances</td>\n",
       "      <td>tea bill cochin international airport</td>\n",
       "    </tr>\n",
       "    <tr>\n",
       "      <th>23</th>\n",
       "      <td>HPVCT201812451416741537598HP</td>\n",
       "      <td>hotel bill on tour</td>\n",
       "      <td>RADISSON BLU KOCHI COCHIN IN</td>\n",
       "      <td>Lodging</td>\n",
       "      <td>hotel bill tour radisson blu kochi cochin</td>\n",
       "    </tr>\n",
       "    <tr>\n",
       "      <th>24</th>\n",
       "      <td>HPCTU201710121722501171255471HP</td>\n",
       "      <td>Visited Maneev enterprise Office to meet the owner for their ongoing and upcoming project requirements and also for the payment follow up   Visited Niranjan contractor office to meet the contracto...</td>\n",
       "      <td>Local Traveling</td>\n",
       "      <td>Daily Field Allowance</td>\n",
       "      <td>visited maneev enterprise office meet owner ongoing upcoming project requirements also payment follow visited niranjan contractor office meet contractor ongoing project requirements visited surya ...</td>\n",
       "    </tr>\n",
       "    <tr>\n",
       "      <th>25</th>\n",
       "      <td>HPVCT201812452237562582363HP</td>\n",
       "      <td>boarding expenses on tour</td>\n",
       "      <td>RADISSON BLU KOCHI COCHIN IN</td>\n",
       "      <td>Boarding</td>\n",
       "      <td>boarding expenses tour radisson blu kochi cochin</td>\n",
       "    </tr>\n",
       "    <tr>\n",
       "      <th>26</th>\n",
       "      <td>HPCTU20181131212398210453576HP</td>\n",
       "      <td>visited dealers counter   architect     sanitary home      Ar  anchit khare     Ar  agrwal ji     school project satna</td>\n",
       "      <td>Boarding At Satna</td>\n",
       "      <td>Boarding</td>\n",
       "      <td>visited dealers counter architect sanitary home anchit khare agrwal school project satna boarding satna</td>\n",
       "    </tr>\n",
       "    <tr>\n",
       "      <th>27</th>\n",
       "      <td>HPVCT2018125337114094826020HP</td>\n",
       "      <td>room bill</td>\n",
       "      <td>HOTEL WYTE PORTICO ADOOR IN</td>\n",
       "      <td>Lodging</td>\n",
       "      <td>room bill hotel wyte portico adoor</td>\n",
       "    </tr>\n",
       "    <tr>\n",
       "      <th>28</th>\n",
       "      <td>HPCTU201822665952791527561HP</td>\n",
       "      <td>food expenses</td>\n",
       "      <td>RR aariyyas  kazhakuttam</td>\n",
       "      <td>Meal Allowances</td>\n",
       "      <td>food expenses aariyyas kazhakuttam</td>\n",
       "    </tr>\n",
       "    <tr>\n",
       "      <th>29</th>\n",
       "      <td>HPCTU2018228118102038932406HP</td>\n",
       "      <td>taxi bill for   days south Kerala tour</td>\n",
       "      <td>Cochin To Trivandrum</td>\n",
       "      <td>Travelling Expenses</td>\n",
       "      <td>taxi bill days south kerala tour cochin trivandrum</td>\n",
       "    </tr>\n",
       "    <tr>\n",
       "      <th>...</th>\n",
       "      <td>...</td>\n",
       "      <td>...</td>\n",
       "      <td>...</td>\n",
       "      <td>...</td>\n",
       "      <td>...</td>\n",
       "    </tr>\n",
       "    <tr>\n",
       "      <th>53225</th>\n",
       "      <td>HPCTU2018281817353100153438HP</td>\n",
       "      <td>I spent this amount for Boarding on tour</td>\n",
       "      <td>Ramya Fast Food</td>\n",
       "      <td>Boarding</td>\n",
       "      <td>spent amount boarding tour ramya fast food</td>\n",
       "    </tr>\n",
       "    <tr>\n",
       "      <th>53226</th>\n",
       "      <td>HPVCT201827353399058613453HP</td>\n",
       "      <td>I met Ratanakara garanites and discussed about order and  given order</td>\n",
       "      <td>SUBHAPRADHA HOTELS ONGOLE IN</td>\n",
       "      <td>Lodging</td>\n",
       "      <td>met ratanakara garanites discussed order given order subhapradha hotels ongole</td>\n",
       "    </tr>\n",
       "    <tr>\n",
       "      <th>53227</th>\n",
       "      <td>HPCTU2018126143112993312139HP</td>\n",
       "      <td>I taken some printouts of Dealership forms  price lists  New showroom branding praposals and project reports</td>\n",
       "      <td>Engineers Xerox  Ananthpur</td>\n",
       "      <td>Staff Welfare Expenses</td>\n",
       "      <td>taken printouts dealership forms price lists new showroom branding praposals project reports engineers xerox athpur</td>\n",
       "    </tr>\n",
       "    <tr>\n",
       "      <th>53228</th>\n",
       "      <td>HPCTU20185271350503246206685HP</td>\n",
       "      <td>auto from NJP station to residence</td>\n",
       "      <td>Siliguri</td>\n",
       "      <td>Travelling Expenses</td>\n",
       "      <td>auto njp station residence siliguri</td>\n",
       "    </tr>\n",
       "    <tr>\n",
       "      <th>53229</th>\n",
       "      <td>HPCTU2018626810299986993645HP</td>\n",
       "      <td>Returning from Morbi Plant to  Mumbai</td>\n",
       "      <td>Induction At Morbi Plant</td>\n",
       "      <td>Lodging</td>\n",
       "      <td>returning morbi plant mumbai induction morbi plant</td>\n",
       "    </tr>\n",
       "    <tr>\n",
       "      <th>53230</th>\n",
       "      <td>HPCTU20185191522224088268565HP</td>\n",
       "      <td>share taxi return to siliguri from Mainaguri</td>\n",
       "      <td>Siliguri</td>\n",
       "      <td>Travelling Expenses</td>\n",
       "      <td>share taxi return siliguri mainaguri siliguri</td>\n",
       "    </tr>\n",
       "    <tr>\n",
       "      <th>53231</th>\n",
       "      <td>HPCTU20185201448207437893913HP</td>\n",
       "      <td>share taxi fare from alipurduar to Siliguri</td>\n",
       "      <td>Siliguri</td>\n",
       "      <td>Travelling Expenses</td>\n",
       "      <td>share taxi fare alipurduar siliguri siliguri</td>\n",
       "    </tr>\n",
       "    <tr>\n",
       "      <th>53232</th>\n",
       "      <td>HPCTU2018623105911126653048HP</td>\n",
       "      <td>Sunday At Noida OC</td>\n",
       "      <td>Noida</td>\n",
       "      <td>Daily Field Allowance</td>\n",
       "      <td>sunday noida noida</td>\n",
       "    </tr>\n",
       "    <tr>\n",
       "      <th>53233</th>\n",
       "      <td>HPCTU2018520149339449851203HP</td>\n",
       "      <td>Taxi fare from residence to Sdah station</td>\n",
       "      <td>Kolkata</td>\n",
       "      <td>Travelling Expenses</td>\n",
       "      <td>taxi fare residence sdah station kolkata</td>\n",
       "    </tr>\n",
       "    <tr>\n",
       "      <th>53234</th>\n",
       "      <td>HPCTU20185191519105475959395HP</td>\n",
       "      <td>ddhupguri to mainaguri share taxi</td>\n",
       "      <td>Dhupguri</td>\n",
       "      <td>Travelling Expenses</td>\n",
       "      <td>ddhupguri mainaguri share taxi dhupguri</td>\n",
       "    </tr>\n",
       "    <tr>\n",
       "      <th>53235</th>\n",
       "      <td>HPCTU20184221729485884004207HP</td>\n",
       "      <td>Meet ashok in lokha developers    Went to gvspl office is closed    Meet Mr Mukesh of Shree Mittal owner for      sqf    Meet Mr Santhosh for vellore project    Meet Mr Madhan in jagg hotels sti...</td>\n",
       "      <td>Petroleum Expenses</td>\n",
       "      <td>Daily Field Allowance</td>\n",
       "      <td>meet ashok lokha developers went gvspl office closed meet mukesh shree mittal owner sqf meet santhosh vellore project meet madhan jagg hotels still renovation site followed park inn order shankara...</td>\n",
       "    </tr>\n",
       "    <tr>\n",
       "      <th>53236</th>\n",
       "      <td>HPCTU2018623855505878377112HP</td>\n",
       "      <td>Helix healthcare pvt ltd   catalogue dropped  follow up for project     Outline interior and design   lead generation     Genesis   visited for a project at meerut  follow up     RSMS   given o...</td>\n",
       "      <td>Ghaziabad</td>\n",
       "      <td>Daily Field Allowance</td>\n",
       "      <td>helix healthcare pvt ltd catalogue dropped follow project outline interior design lead generation genesis visited project meerut follow rsms given order ghaziabad</td>\n",
       "    </tr>\n",
       "    <tr>\n",
       "      <th>53237</th>\n",
       "      <td>HPCTU20184221733132160137993HP</td>\n",
       "      <td>Meet kannan Cpwd contractor    Had meeting Madhan in Sv contractors in kk Nagar    Had an meeting with elite contractors    Had an discussion with surrender for apartments project    arranged sa...</td>\n",
       "      <td>Petroleum Expenses</td>\n",
       "      <td>Daily Field Allowance</td>\n",
       "      <td>meet kan cpwd contractor meeting madhan contractors nagar meeting elite contractors discussion surrender apartments project arranged samples one project meet chandrashekar payment petroleum expenses</td>\n",
       "    </tr>\n",
       "    <tr>\n",
       "      <th>53238</th>\n",
       "      <td>HPCTU20184221734135801164572HP</td>\n",
       "      <td>Today s report     Meet deva in disha contracts     meet Kanya Homes and confirmed the samples     faced my customer aravind in showroom    went to park Inn resorts and collected po     meet Kisho...</td>\n",
       "      <td>Petroleum Expenses</td>\n",
       "      <td>Daily Field Allowance</td>\n",
       "      <td>today report meet deva disha contracts meet kanya homes confirmed samples faced customer aravind showroom went park inn resorts collected meet kishore customer gave samples meet sampath customer f...</td>\n",
       "    </tr>\n",
       "    <tr>\n",
       "      <th>53239</th>\n",
       "      <td>HPCTU20184221736429542645807HP</td>\n",
       "      <td>Manigandan customer total house      sqft  Mukesh customer      sqft  Padi customer      sqft  Jagg hotels       sqft  Kishore customer     sqft  Sampath      sqft  Kanya Homes</td>\n",
       "      <td>Petroleum Expenses</td>\n",
       "      <td>Daily Field Allowance</td>\n",
       "      <td>manigandan customer total house sqft mukesh customer sqft padi customer sqft jagg hotels sqft kishore customer sqft sampath sqft kanya homes petroleum expenses</td>\n",
       "    </tr>\n",
       "    <tr>\n",
       "      <th>53240</th>\n",
       "      <td>HPCTU20184221738326349915927HP</td>\n",
       "      <td>Met Lokaa developers  for their project requirement    Got expected order details for this week    Gave Catalogs with MRP written to Firm Foundation    Pace Builders   cold call    Pushkar prope...</td>\n",
       "      <td>Petroleum Expenses</td>\n",
       "      <td>Daily Field Allowance</td>\n",
       "      <td>met lokaa developers project requirement got expected order details week gave catalogs mrp written firm foundation pace builders cold call pushkar properties cold call petroleum expenses</td>\n",
       "    </tr>\n",
       "    <tr>\n",
       "      <th>53241</th>\n",
       "      <td>HPCTU20185201411433419195983HP</td>\n",
       "      <td>taxi fare from Malda to Kaliachowk</td>\n",
       "      <td>Malda</td>\n",
       "      <td>Travelling Expenses</td>\n",
       "      <td>taxi fare malda kaliachowk malda</td>\n",
       "    </tr>\n",
       "    <tr>\n",
       "      <th>53242</th>\n",
       "      <td>HPCTU20184221546587235706366HP</td>\n",
       "      <td>Had an team meeting  Meeting with Shankara Building  Meeting with rainbow enterprises</td>\n",
       "      <td>Petroleum Expenses</td>\n",
       "      <td>Daily Field Allowance</td>\n",
       "      <td>team meeting meeting shankara building meeting rainbow enterprises petroleum expenses</td>\n",
       "    </tr>\n",
       "    <tr>\n",
       "      <th>53243</th>\n",
       "      <td>HPCTU201862373079175266626HP</td>\n",
       "      <td>Dag Design Action   catalogues dropped     A B Sales   for Samples     S A Tiles for samples     RBI project for samples</td>\n",
       "      <td>Ghaziabad</td>\n",
       "      <td>Daily Field Allowance</td>\n",
       "      <td>dag design action catalogues dropped sales samples tiles samples rbi project samples ghaziabad</td>\n",
       "    </tr>\n",
       "    <tr>\n",
       "      <th>53244</th>\n",
       "      <td>HPCTU20186231051191196162891HP</td>\n",
       "      <td>Tandom One   client will Noida OC      design n Design   catalogues dropped  will aksed for samples     Avni Tiles and Sanitary   for samples</td>\n",
       "      <td>Ghaziabad</td>\n",
       "      <td>Daily Field Allowance</td>\n",
       "      <td>tandom one client noida design design catalogues dropped aksed samples avni tiles sanitary samples ghaziabad</td>\n",
       "    </tr>\n",
       "    <tr>\n",
       "      <th>53245</th>\n",
       "      <td>HPCTU2018771344306176749068HP</td>\n",
       "      <td>Local conveyance on tour</td>\n",
       "      <td>Wayanad</td>\n",
       "      <td>Travelling Expenses</td>\n",
       "      <td>local conveyance tour wayanad</td>\n",
       "    </tr>\n",
       "    <tr>\n",
       "      <th>53246</th>\n",
       "      <td>HPCTU2018771338585354703880HP</td>\n",
       "      <td>Food expenses</td>\n",
       "      <td>Wayanad</td>\n",
       "      <td>Boarding</td>\n",
       "      <td>food expenses wayanad</td>\n",
       "    </tr>\n",
       "    <tr>\n",
       "      <th>53247</th>\n",
       "      <td>HPCTU2018623957189791879164HP</td>\n",
       "      <td>Sandeep Geeta arya   visited for Catalogues     Geeta arya   associates   regular visit     V K bansal   associates   will visit Noida OC</td>\n",
       "      <td>Ghaziabad</td>\n",
       "      <td>Daily Field Allowance</td>\n",
       "      <td>sandeep geeta arya visited catalogues geeta arya associates regular visit bansal associates visit noida ghaziabad</td>\n",
       "    </tr>\n",
       "    <tr>\n",
       "      <th>53248</th>\n",
       "      <td>HPCTU2018623937384469222332HP</td>\n",
       "      <td>R        Raj Nagar   catalogues given  client will visit Noida OC     R       Raj Nagar   visit again for owner details     R       Raj Nagar   shade finilized  waiting for advance from client ...</td>\n",
       "      <td>Ghaziabad</td>\n",
       "      <td>Daily Field Allowance</td>\n",
       "      <td>raj nagar catalogues given client visit noida raj nagar visit owner details raj nagar shade finilized waiting advance client kavi nagar visit owner details ghaziabad</td>\n",
       "    </tr>\n",
       "    <tr>\n",
       "      <th>53249</th>\n",
       "      <td>HPCTU20186231057296937752093HP</td>\n",
       "      <td>Noida OC with architect  Aakriti for shade selection</td>\n",
       "      <td>Ghaziabad</td>\n",
       "      <td>Daily Field Allowance</td>\n",
       "      <td>noida architect aakriti shade selection ghaziabad</td>\n",
       "    </tr>\n",
       "    <tr>\n",
       "      <th>53250</th>\n",
       "      <td>HPCTU201862372588616102815HP</td>\n",
       "      <td>Ar  Ankit   catalogue dropped     aakriti   visited for lead generation     Prithu Homes   catalogues dropped     tandom one   visited for lead generation</td>\n",
       "      <td>Ghaziabad</td>\n",
       "      <td>Daily Field Allowance</td>\n",
       "      <td>ankit catalogue dropped aakriti visited lead generation prithu homes catalogues dropped tandom one visited lead generation ghaziabad</td>\n",
       "    </tr>\n",
       "    <tr>\n",
       "      <th>53251</th>\n",
       "      <td>HPCTU20186231111421879129428HP</td>\n",
       "      <td>B     sanjay nagar   Visit again for owner details     B     sanjay nagar   catalogues and card dropped   follow up     B     sanjay Nagar   owner will visit to Noida OC for shade selection    ...</td>\n",
       "      <td>Ghaziabad</td>\n",
       "      <td>Daily Field Allowance</td>\n",
       "      <td>sanjay nagar visit owner details sanjay nagar catalogues card dropped follow sanjay nagar owner visit noida shade selection complaint visit indirapuram ghaziabad</td>\n",
       "    </tr>\n",
       "    <tr>\n",
       "      <th>53252</th>\n",
       "      <td>HPCTU20186231054122659615391HP</td>\n",
       "      <td>Helix Healthcare Pvt ltd   follow up     Ar  Bakul Chand   needed samples for their project      Shapoorji pallunji   catalogues dropped</td>\n",
       "      <td>Ghaziabad</td>\n",
       "      <td>Daily Field Allowance</td>\n",
       "      <td>helix healthcare pvt ltd follow bakul chand needed samples project shapoorji pallunji catalogues dropped ghaziabad</td>\n",
       "    </tr>\n",
       "    <tr>\n",
       "      <th>53253</th>\n",
       "      <td>HPCTU2018623716112362391935HP</td>\n",
       "      <td>Studio Idea   visited for lead generation     Deepak Mehta   visited for lead generation     Avni tiles and Sanitary   visited for samples     project at Karol bagh   catalogues and card droppe...</td>\n",
       "      <td>ghaziabad</td>\n",
       "      <td>Daily Field Allowance</td>\n",
       "      <td>studio idea visited lead generation deepak mehta visited lead generation avni tiles sanitary visited samples project karol bagh catalogues card dropped visit follow ghaziabad</td>\n",
       "    </tr>\n",
       "    <tr>\n",
       "      <th>53254</th>\n",
       "      <td>HPCTU2018623949363620676998HP</td>\n",
       "      <td>Noida Office   visited with a client     Helix healthcare pvt ltd    visited for samples</td>\n",
       "      <td>Ghaziabad</td>\n",
       "      <td>Daily Field Allowance</td>\n",
       "      <td>noida office visited client helix healthcare pvt ltd visited samples ghaziabad</td>\n",
       "    </tr>\n",
       "  </tbody>\n",
       "</table>\n",
       "<p>53255 rows × 5 columns</p>\n",
       "</div>"
      ],
      "text/plain": [
       "                                txn_id  \\\n",
       "0        HPCTU2018224161563211041797HP   \n",
       "1       HPCTU20183141727182589567887HP   \n",
       "2         HPCTU201822725998634726214HP   \n",
       "3        HPCTU2018312017296722783314HP   \n",
       "4       HPCTU20183181615331670677816HP   \n",
       "5        HPCTU2018312019113386801213HP   \n",
       "6       HPCTU20183181613542483272675HP   \n",
       "7         HPCTU201822735101364413826HP   \n",
       "8         HPCTU201822737474227482363HP   \n",
       "9         HPCTU201822730545421584209HP   \n",
       "10      HPCTU20183181611525053191918HP   \n",
       "11        HPCTU201831202409516793882HP   \n",
       "12       HPCTU2018318155255850342039HP   \n",
       "13        HPCTU201831816993582462191HP   \n",
       "14       HPCTU2018318155584810885696HP   \n",
       "15       HPCTU2018371538463854997851HP   \n",
       "16      HPCTU20183181550387808131431HP   \n",
       "17      HPCTU20183141725177075866386HP   \n",
       "18        HPCTU201831816034613715661HP   \n",
       "19       HPCTU2018124957289847888381HP   \n",
       "20       HPCTU2018291915281276364384HP   \n",
       "21       HPCTU2018131126233582625578HP   \n",
       "22       HPCTU2018226642326365521590HP   \n",
       "23        HPVCT201812451416741537598HP   \n",
       "24     HPCTU201710121722501171255471HP   \n",
       "25        HPVCT201812452237562582363HP   \n",
       "26      HPCTU20181131212398210453576HP   \n",
       "27       HPVCT2018125337114094826020HP   \n",
       "28        HPCTU201822665952791527561HP   \n",
       "29       HPCTU2018228118102038932406HP   \n",
       "...                                ...   \n",
       "53225    HPCTU2018281817353100153438HP   \n",
       "53226     HPVCT201827353399058613453HP   \n",
       "53227    HPCTU2018126143112993312139HP   \n",
       "53228   HPCTU20185271350503246206685HP   \n",
       "53229    HPCTU2018626810299986993645HP   \n",
       "53230   HPCTU20185191522224088268565HP   \n",
       "53231   HPCTU20185201448207437893913HP   \n",
       "53232    HPCTU2018623105911126653048HP   \n",
       "53233    HPCTU2018520149339449851203HP   \n",
       "53234   HPCTU20185191519105475959395HP   \n",
       "53235   HPCTU20184221729485884004207HP   \n",
       "53236    HPCTU2018623855505878377112HP   \n",
       "53237   HPCTU20184221733132160137993HP   \n",
       "53238   HPCTU20184221734135801164572HP   \n",
       "53239   HPCTU20184221736429542645807HP   \n",
       "53240   HPCTU20184221738326349915927HP   \n",
       "53241   HPCTU20185201411433419195983HP   \n",
       "53242   HPCTU20184221546587235706366HP   \n",
       "53243     HPCTU201862373079175266626HP   \n",
       "53244   HPCTU20186231051191196162891HP   \n",
       "53245    HPCTU2018771344306176749068HP   \n",
       "53246    HPCTU2018771338585354703880HP   \n",
       "53247    HPCTU2018623957189791879164HP   \n",
       "53248    HPCTU2018623937384469222332HP   \n",
       "53249   HPCTU20186231057296937752093HP   \n",
       "53250     HPCTU201862372588616102815HP   \n",
       "53251   HPCTU20186231111421879129428HP   \n",
       "53252   HPCTU20186231054122659615391HP   \n",
       "53253    HPCTU2018623716112362391935HP   \n",
       "53254    HPCTU2018623949363620676998HP   \n",
       "\n",
       "                                                                                                                                                                                                   description  \\\n",
       "0                                                                                                                                                                                         airport to residence   \n",
       "1                                                                                                                                                           Super tile emporium  Camelia sales  Tirupati impex   \n",
       "2                                                                                                                                                              Avni Tiles  Tile Art  Office  Sunny sanitation    \n",
       "3                                                                                                                                                             Avni tiles  Aggrawal  Kamakshi mkt  Vijay Laxmi    \n",
       "4                                                                                                                                  Avni tiles and sanitary  Aggrawal Marble  Bhatia and associates  Vijay bath   \n",
       "5                                                                                                                                                                 Office  Resonanance  Bath Hut  Taneja paints   \n",
       "6                                                                                                                                                      Le season  Bindal ceramics  Sign Marble  Royal saffron    \n",
       "7                                                                                                                                                             Shekhar Dayal  Bhatia and associates  Avni tiles   \n",
       "8                                                                                                                                           Prakash Marble Super tiles emporium  Camelia sales  Tirupati impex   \n",
       "9                                                                                                                                                                             Vijay Enterprise  Ashiana  GBMS    \n",
       "10                                                                                                                                                 Vijay enterprise  AN sales  Mahavir sanitation  Gogia Bath    \n",
       "11                                                                                                                                                                         Satija  UPSC  Kailash chawla  GBMS    \n",
       "12                                                                                                                                                             Amit Marble  Balaji  Vilas Marble  Swastic bath   \n",
       "13                                                                                                                                                                          sunny sanitation  Avni tiles  KNS    \n",
       "14                                                                                                                                    Super tile emporium  Camelia sales  Selection Bath Gallery  Variety Bath   \n",
       "15                                                                                                                                                                     Office Ck decor  Vijay enterprise  GBMS   \n",
       "16                                                                                                                                                              Avni tiles  KNS  Mahalaxmi  Kamakshi marketing   \n",
       "17                                                                                                                                                                Vijay Enterprise  UPSC  Bath interor  Satija   \n",
       "18                                                                                                                                         Camelia sales  Bindal ceramics  Ashoka Marble  Super tile emporium    \n",
       "19                                            M Oswal  ShivajiNagar     Chamunda Stone  Jag tap Dairy    SK Ceramics  Kalewadi    Shiv Tiles  Rahatani    Suraj Enterprise  Bhosari    Nakoda Marble  Alandi     \n",
       "20                                                                                                                                                                                            JATL TOLL PLAZA    \n",
       "21                                                                                                                                      Local dealers visit  project visit  architect visit   Builder s visit    \n",
       "22                                                                                                                                                                                                    tea bill   \n",
       "23                                                                                                                                                                                          hotel bill on tour   \n",
       "24     Visited Maneev enterprise Office to meet the owner for their ongoing and upcoming project requirements and also for the payment follow up   Visited Niranjan contractor office to meet the contracto...   \n",
       "25                                                                                                                                                                                   boarding expenses on tour   \n",
       "26                                                                                      visited dealers counter   architect     sanitary home      Ar  anchit khare     Ar  agrwal ji     school project satna   \n",
       "27                                                                                                                                                                                                   room bill   \n",
       "28                                                                                                                                                                                               food expenses   \n",
       "29                                                                                                                                                                      taxi bill for   days south Kerala tour   \n",
       "...                                                                                                                                                                                                        ...   \n",
       "53225                                                                                                                                                                I spent this amount for Boarding on tour    \n",
       "53226                                                                                                                                   I met Ratanakara garanites and discussed about order and  given order    \n",
       "53227                                                                                            I taken some printouts of Dealership forms  price lists  New showroom branding praposals and project reports    \n",
       "53228                                                                                                                                                                      auto from NJP station to residence    \n",
       "53229                                                                                                                                                                   Returning from Morbi Plant to  Mumbai    \n",
       "53230                                                                                                                                                            share taxi return to siliguri from Mainaguri    \n",
       "53231                                                                                                                                                             share taxi fare from alipurduar to Siliguri    \n",
       "53232                                                                                                                                                                                       Sunday At Noida OC   \n",
       "53233                                                                                                                                                                Taxi fare from residence to Sdah station    \n",
       "53234                                                                                                                                                                      ddhupguri to mainaguri share taxi     \n",
       "53235    Meet ashok in lokha developers    Went to gvspl office is closed    Meet Mr Mukesh of Shree Mittal owner for      sqf    Meet Mr Santhosh for vellore project    Meet Mr Madhan in jagg hotels sti...   \n",
       "53236     Helix healthcare pvt ltd   catalogue dropped  follow up for project     Outline interior and design   lead generation     Genesis   visited for a project at meerut  follow up     RSMS   given o...   \n",
       "53237    Meet kannan Cpwd contractor    Had meeting Madhan in Sv contractors in kk Nagar    Had an meeting with elite contractors    Had an discussion with surrender for apartments project    arranged sa...   \n",
       "53238  Today s report     Meet deva in disha contracts     meet Kanya Homes and confirmed the samples     faced my customer aravind in showroom    went to park Inn resorts and collected po     meet Kisho...   \n",
       "53239                         Manigandan customer total house      sqft  Mukesh customer      sqft  Padi customer      sqft  Jagg hotels       sqft  Kishore customer     sqft  Sampath      sqft  Kanya Homes   \n",
       "53240    Met Lokaa developers  for their project requirement    Got expected order details for this week    Gave Catalogs with MRP written to Firm Foundation    Pace Builders   cold call    Pushkar prope...   \n",
       "53241                                                                                                                                                                     taxi fare from Malda to Kaliachowk     \n",
       "53242                                                                                                                   Had an team meeting  Meeting with Shankara Building  Meeting with rainbow enterprises    \n",
       "53243                                                                                 Dag Design Action   catalogues dropped     A B Sales   for Samples     S A Tiles for samples     RBI project for samples   \n",
       "53244                                                            Tandom One   client will Noida OC      design n Design   catalogues dropped  will aksed for samples     Avni Tiles and Sanitary   for samples   \n",
       "53245                                                                                                                                                                                Local conveyance on tour    \n",
       "53246                                                                                                                                                                                           Food expenses    \n",
       "53247                                                                Sandeep Geeta arya   visited for Catalogues     Geeta arya   associates   regular visit     V K bansal   associates   will visit Noida OC   \n",
       "53248     R        Raj Nagar   catalogues given  client will visit Noida OC     R       Raj Nagar   visit again for owner details     R       Raj Nagar   shade finilized  waiting for advance from client ...   \n",
       "53249                                                                                                                                                     Noida OC with architect  Aakriti for shade selection   \n",
       "53250                                               Ar  Ankit   catalogue dropped     aakriti   visited for lead generation     Prithu Homes   catalogues dropped     tandom one   visited for lead generation   \n",
       "53251     B     sanjay nagar   Visit again for owner details     B     sanjay nagar   catalogues and card dropped   follow up     B     sanjay Nagar   owner will visit to Noida OC for shade selection    ...   \n",
       "53252                                                                 Helix Healthcare Pvt ltd   follow up     Ar  Bakul Chand   needed samples for their project      Shapoorji pallunji   catalogues dropped   \n",
       "53253     Studio Idea   visited for lead generation     Deepak Mehta   visited for lead generation     Avni tiles and Sanitary   visited for samples     project at Karol bagh   catalogues and card droppe...   \n",
       "53254                                                                                                                 Noida Office   visited with a client     Helix healthcare pvt ltd    visited for samples   \n",
       "\n",
       "                     payee_merchant                Category  \\\n",
       "0             Meru Cabs Head Office     Travelling Expenses   \n",
       "1                      local  Delhi   Daily Field Allowance   \n",
       "2                      Local  Delhi   Daily Field Allowance   \n",
       "3                    local   Delhi    Daily Field Allowance   \n",
       "4                      Local  Delhi   Daily Field Allowance   \n",
       "5                       local Delhi   Daily Field Allowance   \n",
       "6                      Local  Delhi   Daily Field Allowance   \n",
       "7                      Local  Delhi   Daily Field Allowance   \n",
       "8                      Local  Delhi   Daily Field Allowance   \n",
       "9                     Local  Delhi    Daily Field Allowance   \n",
       "10                    Local  Delhi    Daily Field Allowance   \n",
       "11                     local  Delhi   Daily Field Allowance   \n",
       "12                     Local  Delhi   Daily Field Allowance   \n",
       "13                     Local  Delhi   Daily Field Allowance   \n",
       "14                     Local  Delhi   Daily Field Allowance   \n",
       "15                    Local  DELHI    Daily Field Allowance   \n",
       "16                     Local  Delhi   Daily Field Allowance   \n",
       "17                    local   Delhi   Daily Field Allowance   \n",
       "18                    Local  Delhi    Daily Field Allowance   \n",
       "19                            Fuel    Daily Field Allowance   \n",
       "20                        Amritsar      Travelling Expenses   \n",
       "21                      Petrol Bill   Daily Field Allowance   \n",
       "22     cochin international airport         Meal Allowances   \n",
       "23     RADISSON BLU KOCHI COCHIN IN                 Lodging   \n",
       "24                  Local Traveling   Daily Field Allowance   \n",
       "25     RADISSON BLU KOCHI COCHIN IN                Boarding   \n",
       "26                Boarding At Satna                Boarding   \n",
       "27      HOTEL WYTE PORTICO ADOOR IN                 Lodging   \n",
       "28         RR aariyyas  kazhakuttam         Meal Allowances   \n",
       "29             Cochin To Trivandrum     Travelling Expenses   \n",
       "...                             ...                     ...   \n",
       "53225               Ramya Fast Food                Boarding   \n",
       "53226  SUBHAPRADHA HOTELS ONGOLE IN                 Lodging   \n",
       "53227    Engineers Xerox  Ananthpur  Staff Welfare Expenses   \n",
       "53228                      Siliguri     Travelling Expenses   \n",
       "53229     Induction At Morbi Plant                  Lodging   \n",
       "53230                      Siliguri     Travelling Expenses   \n",
       "53231                      Siliguri     Travelling Expenses   \n",
       "53232                         Noida   Daily Field Allowance   \n",
       "53233                       Kolkata     Travelling Expenses   \n",
       "53234                      Dhupguri     Travelling Expenses   \n",
       "53235           Petroleum Expenses    Daily Field Allowance   \n",
       "53236                     Ghaziabad   Daily Field Allowance   \n",
       "53237           Petroleum Expenses    Daily Field Allowance   \n",
       "53238           Petroleum Expenses    Daily Field Allowance   \n",
       "53239           Petroleum Expenses    Daily Field Allowance   \n",
       "53240           Petroleum Expenses    Daily Field Allowance   \n",
       "53241                         Malda     Travelling Expenses   \n",
       "53242           Petroleum Expenses    Daily Field Allowance   \n",
       "53243                     Ghaziabad   Daily Field Allowance   \n",
       "53244                     Ghaziabad   Daily Field Allowance   \n",
       "53245                       Wayanad     Travelling Expenses   \n",
       "53246                       Wayanad                Boarding   \n",
       "53247                     Ghaziabad   Daily Field Allowance   \n",
       "53248                     Ghaziabad   Daily Field Allowance   \n",
       "53249                     Ghaziabad   Daily Field Allowance   \n",
       "53250                     Ghaziabad   Daily Field Allowance   \n",
       "53251                     Ghaziabad   Daily Field Allowance   \n",
       "53252                     Ghaziabad   Daily Field Allowance   \n",
       "53253                     ghaziabad   Daily Field Allowance   \n",
       "53254                     Ghaziabad   Daily Field Allowance   \n",
       "\n",
       "                                                                                                                                                                                           expense_description  \n",
       "0                                                                                                                                                                      airport residence meru cabs head office  \n",
       "1                                                                                                                                                 super tile emporium camelia sales tirupati impex local delhi  \n",
       "2                                                                                                                                                      avni tiles tile art office sunny sanitation local delhi  \n",
       "3                                                                                                                                                     avni tiles aggrawal kamakshi mkt vijay laxmi local delhi  \n",
       "4                                                                                                                                 avni tiles sanitary aggrawal marble bhatia associates vijay bath local delhi  \n",
       "5                                                                                                                                                           office resoance bath hut taneja paints local delhi  \n",
       "6                                                                                                                                                 season bindal ceramics sign marble royal saffron local delhi  \n",
       "7                                                                                                                                                       shekhar dayal bhatia associates avni tiles local delhi  \n",
       "8                                                                                                                                 prakash marble super tiles emporium camelia sales tirupati impex local delhi  \n",
       "9                                                                                                                                                                    vijay enterprise ashiana gbms local delhi  \n",
       "10                                                                                                                                            vijay enterprise sales mahavir sanitation gogia bath local delhi  \n",
       "11                                                                                                                                                                 satija upsc kailash chawla gbms local delhi  \n",
       "12                                                                                                                                                    amit marble balaji vilas marble swastic bath local delhi  \n",
       "13                                                                                                                                                                 sunny sanitation avni tiles kns local delhi  \n",
       "14                                                                                                                           super tile emporium camelia sales selection bath gallery variety bath local delhi  \n",
       "15                                                                                                                                                              office decor vijay enterprise gbms local delhi  \n",
       "16                                                                                                                                                     avni tiles kns mahalaxmi kamakshi marketing local delhi  \n",
       "17                                                                                                                                                       vijay enterprise upsc bath interor satija local delhi  \n",
       "18                                                                                                                                 camelia sales bindal ceramics ashoka marble super tile emporium local delhi  \n",
       "19                                                                    oswal shivajinagar chamunda stone jag tap dairy ceramics kalewadi shiv tiles rahatani suraj enterprise bhosari nakoda marble alandi fuel  \n",
       "20                                                                                                                                                                                    jatl toll plaza amritsar  \n",
       "21                                                                                                                                 local dealers visit project visit architect visit builder visit petrol bill  \n",
       "22                                                                                                                                                                       tea bill cochin international airport  \n",
       "23                                                                                                                                                                   hotel bill tour radisson blu kochi cochin  \n",
       "24     visited maneev enterprise office meet owner ongoing upcoming project requirements also payment follow visited niranjan contractor office meet contractor ongoing project requirements visited surya ...  \n",
       "25                                                                                                                                                            boarding expenses tour radisson blu kochi cochin  \n",
       "26                                                                                                     visited dealers counter architect sanitary home anchit khare agrwal school project satna boarding satna  \n",
       "27                                                                                                                                                                          room bill hotel wyte portico adoor  \n",
       "28                                                                                                                                                                          food expenses aariyyas kazhakuttam  \n",
       "29                                                                                                                                                          taxi bill days south kerala tour cochin trivandrum  \n",
       "...                                                                                                                                                                                                        ...  \n",
       "53225                                                                                                                                                               spent amount boarding tour ramya fast food  \n",
       "53226                                                                                                                           met ratanakara garanites discussed order given order subhapradha hotels ongole  \n",
       "53227                                                                                      taken printouts dealership forms price lists new showroom branding praposals project reports engineers xerox athpur  \n",
       "53228                                                                                                                                                                      auto njp station residence siliguri  \n",
       "53229                                                                                                                                                       returning morbi plant mumbai induction morbi plant  \n",
       "53230                                                                                                                                                            share taxi return siliguri mainaguri siliguri  \n",
       "53231                                                                                                                                                             share taxi fare alipurduar siliguri siliguri  \n",
       "53232                                                                                                                                                                                       sunday noida noida  \n",
       "53233                                                                                                                                                                 taxi fare residence sdah station kolkata  \n",
       "53234                                                                                                                                                                  ddhupguri mainaguri share taxi dhupguri  \n",
       "53235  meet ashok lokha developers went gvspl office closed meet mukesh shree mittal owner sqf meet santhosh vellore project meet madhan jagg hotels still renovation site followed park inn order shankara...  \n",
       "53236                                       helix healthcare pvt ltd catalogue dropped follow project outline interior design lead generation genesis visited project meerut follow rsms given order ghaziabad  \n",
       "53237   meet kan cpwd contractor meeting madhan contractors nagar meeting elite contractors discussion surrender apartments project arranged samples one project meet chandrashekar payment petroleum expenses  \n",
       "53238  today report meet deva disha contracts meet kanya homes confirmed samples faced customer aravind showroom went park inn resorts collected meet kishore customer gave samples meet sampath customer f...  \n",
       "53239                                          manigandan customer total house sqft mukesh customer sqft padi customer sqft jagg hotels sqft kishore customer sqft sampath sqft kanya homes petroleum expenses  \n",
       "53240               met lokaa developers project requirement got expected order details week gave catalogs mrp written firm foundation pace builders cold call pushkar properties cold call petroleum expenses  \n",
       "53241                                                                                                                                                                         taxi fare malda kaliachowk malda  \n",
       "53242                                                                                                                    team meeting meeting shankara building meeting rainbow enterprises petroleum expenses  \n",
       "53243                                                                                                           dag design action catalogues dropped sales samples tiles samples rbi project samples ghaziabad  \n",
       "53244                                                                                             tandom one client noida design design catalogues dropped aksed samples avni tiles sanitary samples ghaziabad  \n",
       "53245                                                                                                                                                                            local conveyance tour wayanad  \n",
       "53246                                                                                                                                                                                    food expenses wayanad  \n",
       "53247                                                                                        sandeep geeta arya visited catalogues geeta arya associates regular visit bansal associates visit noida ghaziabad  \n",
       "53248                                    raj nagar catalogues given client visit noida raj nagar visit owner details raj nagar shade finilized waiting advance client kavi nagar visit owner details ghaziabad  \n",
       "53249                                                                                                                                                        noida architect aakriti shade selection ghaziabad  \n",
       "53250                                                                     ankit catalogue dropped aakriti visited lead generation prithu homes catalogues dropped tandom one visited lead generation ghaziabad  \n",
       "53251                                        sanjay nagar visit owner details sanjay nagar catalogues card dropped follow sanjay nagar owner visit noida shade selection complaint visit indirapuram ghaziabad  \n",
       "53252                                                                                       helix healthcare pvt ltd follow bakul chand needed samples project shapoorji pallunji catalogues dropped ghaziabad  \n",
       "53253                           studio idea visited lead generation deepak mehta visited lead generation avni tiles sanitary visited samples project karol bagh catalogues card dropped visit follow ghaziabad  \n",
       "53254                                                                                                                           noida office visited client helix healthcare pvt ltd visited samples ghaziabad  \n",
       "\n",
       "[53255 rows x 5 columns]"
      ]
     },
     "execution_count": 78,
     "metadata": {},
     "output_type": "execute_result"
    }
   ],
   "source": [
    "train"
   ]
  },
  {
   "cell_type": "code",
   "execution_count": 79,
   "metadata": {},
   "outputs": [
    {
     "data": {
      "text/plain": [
       "Daily Field Allowance       28715\n",
       "Travelling Expenses         15141\n",
       "Boarding                     5983\n",
       "Lodging                      1470\n",
       "Staff Welfare Expenses        844\n",
       "Courier                       670\n",
       "Meal Allowances               349\n",
       "Sales Promotion Expenses       83\n",
       "Name: Category, dtype: int64"
      ]
     },
     "execution_count": 79,
     "metadata": {},
     "output_type": "execute_result"
    }
   ],
   "source": [
    "train.Category.value_counts()"
   ]
  },
  {
   "cell_type": "code",
   "execution_count": 80,
   "metadata": {},
   "outputs": [
    {
     "data": {
      "text/plain": [
       "586212"
      ]
     },
     "execution_count": 80,
     "metadata": {},
     "output_type": "execute_result"
    }
   ],
   "source": [
    "train['expense_description'].astype(str).apply(lambda x: len(x.split(' '))).sum()"
   ]
  },
  {
   "cell_type": "code",
   "execution_count": 81,
   "metadata": {},
   "outputs": [
    {
     "data": {
      "text/plain": [
       "txn_id                    0\n",
       "description            1056\n",
       "payee_merchant            7\n",
       "Category                  0\n",
       "expense_description       0\n",
       "dtype: int64"
      ]
     },
     "execution_count": 81,
     "metadata": {},
     "output_type": "execute_result"
    }
   ],
   "source": [
    "train.isnull().sum()"
   ]
  },
  {
   "cell_type": "code",
   "execution_count": 35,
   "metadata": {},
   "outputs": [],
   "source": [
    "# train = train[~train.expense_description.isnull()]\n",
    "# train.to_csv('train_data_processed.csv', encoding='utf-8', index=False)"
   ]
  },
  {
   "cell_type": "code",
   "execution_count": 36,
   "metadata": {},
   "outputs": [],
   "source": [
    "X = train.expense_description\n",
    "y = train.Category\n",
    "X_train, X_test, y_train, y_test = train_test_split(X, y, test_size=0.25, random_state = 42, stratify=y)"
   ]
  },
  {
   "cell_type": "code",
   "execution_count": 42,
   "metadata": {},
   "outputs": [
    {
     "data": {
      "text/plain": [
       "Daily Field Allowance       21536\n",
       "Travelling Expenses         11356\n",
       "Boarding                     4487\n",
       "Lodging                      1102\n",
       "Staff Welfare Expenses        633\n",
       "Courier                       503\n",
       "Meal Allowances               262\n",
       "Sales Promotion Expenses       62\n",
       "Name: Category, dtype: int64"
      ]
     },
     "execution_count": 42,
     "metadata": {},
     "output_type": "execute_result"
    }
   ],
   "source": [
    "y_train.value_counts()"
   ]
  },
  {
   "cell_type": "markdown",
   "metadata": {},
   "source": [
    "# Naive Bayes Classifier for Multinomial Models"
   ]
  },
  {
   "cell_type": "code",
   "execution_count": 37,
   "metadata": {},
   "outputs": [
    {
     "data": {
      "text/plain": [
       "Pipeline(memory=None,\n",
       "     steps=[('vect', CountVectorizer(analyzer='word', binary=False, decode_error='strict',\n",
       "        dtype=<class 'numpy.int64'>, encoding='utf-8', input='content',\n",
       "        lowercase=True, max_df=1.0, max_features=None, min_df=1,\n",
       "        ngram_range=(1, 1), preprocessor=None, stop_words=None,\n",
       "        strip...inear_tf=False, use_idf=True)), ('clf', MultinomialNB(alpha=1.0, class_prior=None, fit_prior=True))])"
      ]
     },
     "execution_count": 37,
     "metadata": {},
     "output_type": "execute_result"
    }
   ],
   "source": [
    "from sklearn.naive_bayes import MultinomialNB\n",
    "from sklearn.pipeline import Pipeline\n",
    "from sklearn.feature_extraction.text import TfidfTransformer\n",
    "\n",
    "nb = Pipeline([('vect', CountVectorizer()),\n",
    "               ('tfidf', TfidfTransformer()),\n",
    "               ('clf', MultinomialNB()),\n",
    "              ])\n",
    "nb.fit(X_train, y_train)"
   ]
  },
  {
   "cell_type": "code",
   "execution_count": 38,
   "metadata": {},
   "outputs": [],
   "source": [
    "my_categories = ['Daily Field Allowance', 'Travelling Expenses', 'Boarding', 'Lodging', 'Staff Welfare Expenses', 'Courier', 'Meal Allowances', 'Sales Promotion Expenses']"
   ]
  },
  {
   "cell_type": "code",
   "execution_count": 39,
   "metadata": {},
   "outputs": [
    {
     "name": "stdout",
     "output_type": "stream",
     "text": [
      "accuracy 0.869986480396575\n",
      "                          precision    recall  f1-score   support\n",
      "\n",
      "   Daily Field Allowance       0.85      0.74      0.79      1496\n",
      "     Travelling Expenses       0.99      0.53      0.69       167\n",
      "                Boarding       0.89      0.99      0.93      7179\n",
      "                 Lodging       1.00      0.11      0.20       368\n",
      "  Staff Welfare Expenses       1.00      0.08      0.15        87\n",
      "                 Courier       0.00      0.00      0.00        21\n",
      "         Meal Allowances       1.00      0.59      0.74       211\n",
      "Sales Promotion Expenses       0.83      0.83      0.83      3785\n",
      "\n",
      "               micro avg       0.87      0.87      0.87     13314\n",
      "               macro avg       0.82      0.48      0.54     13314\n",
      "            weighted avg       0.87      0.87      0.86     13314\n",
      "\n",
      "Wall time: 343 ms\n"
     ]
    },
    {
     "name": "stderr",
     "output_type": "stream",
     "text": [
      "C:\\Users\\Krishna.Priya\\anaconda3\\lib\\site-packages\\sklearn\\metrics\\classification.py:1143: UndefinedMetricWarning: Precision and F-score are ill-defined and being set to 0.0 in labels with no predicted samples.\n",
      "  'precision', 'predicted', average, warn_for)\n",
      "C:\\Users\\Krishna.Priya\\anaconda3\\lib\\site-packages\\sklearn\\metrics\\classification.py:1143: UndefinedMetricWarning: Precision and F-score are ill-defined and being set to 0.0 in labels with no predicted samples.\n",
      "  'precision', 'predicted', average, warn_for)\n",
      "C:\\Users\\Krishna.Priya\\anaconda3\\lib\\site-packages\\sklearn\\metrics\\classification.py:1143: UndefinedMetricWarning: Precision and F-score are ill-defined and being set to 0.0 in labels with no predicted samples.\n",
      "  'precision', 'predicted', average, warn_for)\n"
     ]
    }
   ],
   "source": [
    "%%time\n",
    "from sklearn.metrics import classification_report\n",
    "y_pred = nb.predict(X_test)\n",
    "\n",
    "print('accuracy %s' % accuracy_score(y_pred, y_test))\n",
    "print(classification_report(y_test, y_pred,target_names=my_categories))"
   ]
  },
  {
   "cell_type": "markdown",
   "metadata": {},
   "source": [
    "# Linear Support Vector Machine"
   ]
  },
  {
   "cell_type": "code",
   "execution_count": 40,
   "metadata": {},
   "outputs": [
    {
     "name": "stderr",
     "output_type": "stream",
     "text": [
      "C:\\Users\\Krishna.Priya\\anaconda3\\lib\\site-packages\\sklearn\\linear_model\\stochastic_gradient.py:183: FutureWarning: max_iter and tol parameters have been added in SGDClassifier in 0.19. If max_iter is set but tol is left unset, the default value for tol in 0.19 and 0.20 will be None (which is equivalent to -infinity, so it has no effect) but will change in 0.21 to 1e-3. Specify tol to silence this warning.\n",
      "  FutureWarning)\n"
     ]
    },
    {
     "data": {
      "text/plain": [
       "Pipeline(memory=None,\n",
       "     steps=[('vect', CountVectorizer(analyzer='word', binary=False, decode_error='strict',\n",
       "        dtype=<class 'numpy.int64'>, encoding='utf-8', input='content',\n",
       "        lowercase=True, max_df=1.0, max_features=None, min_df=1,\n",
       "        ngram_range=(1, 1), preprocessor=None, stop_words=None,\n",
       "        strip...dom_state=42, shuffle=True, tol=None,\n",
       "       validation_fraction=0.1, verbose=0, warm_start=False))])"
      ]
     },
     "execution_count": 40,
     "metadata": {},
     "output_type": "execute_result"
    }
   ],
   "source": [
    "from sklearn.linear_model import SGDClassifier\n",
    "\n",
    "sgd = Pipeline([('vect', CountVectorizer()),\n",
    "                ('tfidf', TfidfTransformer()),\n",
    "                ('clf', SGDClassifier(loss='hinge', penalty='l2',alpha=1e-3, random_state=42, max_iter=5, tol=None)),\n",
    "               ])\n",
    "sgd.fit(X_train, y_train)"
   ]
  },
  {
   "cell_type": "code",
   "execution_count": 41,
   "metadata": {},
   "outputs": [
    {
     "name": "stdout",
     "output_type": "stream",
     "text": [
      "accuracy 0.8444494517049722\n",
      "                          precision    recall  f1-score   support\n",
      "\n",
      "   Daily Field Allowance       0.90      0.80      0.84      1496\n",
      "     Travelling Expenses       0.98      0.76      0.86       167\n",
      "                Boarding       0.80      0.99      0.89      7179\n",
      "                 Lodging       0.97      0.51      0.67       368\n",
      "  Staff Welfare Expenses       1.00      0.08      0.15        87\n",
      "                 Courier       0.00      0.00      0.00        21\n",
      "         Meal Allowances       0.99      0.69      0.82       211\n",
      "Sales Promotion Expenses       0.93      0.65      0.77      3785\n",
      "\n",
      "               micro avg       0.84      0.84      0.84     13314\n",
      "               macro avg       0.82      0.56      0.62     13314\n",
      "            weighted avg       0.86      0.84      0.83     13314\n",
      "\n",
      "Wall time: 304 ms\n"
     ]
    },
    {
     "name": "stderr",
     "output_type": "stream",
     "text": [
      "C:\\Users\\Krishna.Priya\\anaconda3\\lib\\site-packages\\sklearn\\metrics\\classification.py:1143: UndefinedMetricWarning: Precision and F-score are ill-defined and being set to 0.0 in labels with no predicted samples.\n",
      "  'precision', 'predicted', average, warn_for)\n",
      "C:\\Users\\Krishna.Priya\\anaconda3\\lib\\site-packages\\sklearn\\metrics\\classification.py:1143: UndefinedMetricWarning: Precision and F-score are ill-defined and being set to 0.0 in labels with no predicted samples.\n",
      "  'precision', 'predicted', average, warn_for)\n",
      "C:\\Users\\Krishna.Priya\\anaconda3\\lib\\site-packages\\sklearn\\metrics\\classification.py:1143: UndefinedMetricWarning: Precision and F-score are ill-defined and being set to 0.0 in labels with no predicted samples.\n",
      "  'precision', 'predicted', average, warn_for)\n"
     ]
    }
   ],
   "source": [
    "%%time\n",
    "y_pred = sgd.predict(X_test)\n",
    "\n",
    "print('accuracy %s' % accuracy_score(y_pred, y_test))\n",
    "print(classification_report(y_test, y_pred,target_names=my_categories))"
   ]
  },
  {
   "cell_type": "markdown",
   "metadata": {},
   "source": [
    "# Logistic Regression"
   ]
  },
  {
   "cell_type": "code",
   "execution_count": 47,
   "metadata": {},
   "outputs": [
    {
     "name": "stderr",
     "output_type": "stream",
     "text": [
      "C:\\Users\\Krishna.Priya\\anaconda3\\lib\\site-packages\\sklearn\\linear_model\\logistic.py:1300: UserWarning: 'n_jobs' > 1 does not have any effect when 'solver' is set to 'liblinear'. Got 'n_jobs' = 8.\n",
      "  \" = {}.\".format(effective_n_jobs(self.n_jobs)))\n",
      "C:\\Users\\Krishna.Priya\\anaconda3\\lib\\site-packages\\sklearn\\svm\\base.py:931: ConvergenceWarning: Liblinear failed to converge, increase the number of iterations.\n",
      "  \"the number of iterations.\", ConvergenceWarning)\n"
     ]
    },
    {
     "data": {
      "text/plain": [
       "Pipeline(memory=None,\n",
       "     steps=[('vect', CountVectorizer(analyzer='word', binary=False, decode_error='strict',\n",
       "        dtype=<class 'numpy.int64'>, encoding='utf-8', input='content',\n",
       "        lowercase=True, max_df=1.0, max_features=None, min_df=1,\n",
       "        ngram_range=(1, 1), preprocessor=None, stop_words=None,\n",
       "        strip...penalty='l2', random_state=None,\n",
       "          solver='warn', tol=0.0001, verbose=0, warm_start=False))])"
      ]
     },
     "execution_count": 47,
     "metadata": {},
     "output_type": "execute_result"
    }
   ],
   "source": [
    "from sklearn.linear_model import LogisticRegression\n",
    "\n",
    "logreg = Pipeline([('vect', CountVectorizer()),\n",
    "                ('tfidf', TfidfTransformer()),\n",
    "                ('clf', LogisticRegression(n_jobs=-1, C=1e5)),\n",
    "               ])\n",
    "logreg.fit(X_train, y_train)"
   ]
  },
  {
   "cell_type": "code",
   "execution_count": 48,
   "metadata": {},
   "outputs": [
    {
     "name": "stdout",
     "output_type": "stream",
     "text": [
      "accuracy 0.9029592909719093\n",
      "                          precision    recall  f1-score   support\n",
      "\n",
      "   Daily Field Allowance       0.83      0.82      0.83      1496\n",
      "     Travelling Expenses       0.96      0.92      0.94       167\n",
      "                Boarding       0.94      0.95      0.95      7179\n",
      "                 Lodging       0.72      0.66      0.69       368\n",
      "  Staff Welfare Expenses       0.46      0.43      0.44        87\n",
      "                 Courier       0.80      0.38      0.52        21\n",
      "         Meal Allowances       0.97      0.91      0.94       211\n",
      "Sales Promotion Expenses       0.87      0.88      0.88      3785\n",
      "\n",
      "               micro avg       0.90      0.90      0.90     13314\n",
      "               macro avg       0.82      0.74      0.77     13314\n",
      "            weighted avg       0.90      0.90      0.90     13314\n",
      "\n",
      "Wall time: 305 ms\n"
     ]
    }
   ],
   "source": [
    "%%time\n",
    "y_pred = logreg.predict(X_test)\n",
    "\n",
    "print('accuracy %s' % accuracy_score(y_pred, y_test))\n",
    "print(classification_report(y_test, y_pred,target_names=my_categories))"
   ]
  },
  {
   "cell_type": "markdown",
   "metadata": {},
   "source": [
    "# Doc2vec and Logistic Regression"
   ]
  },
  {
   "cell_type": "code",
   "execution_count": 49,
   "metadata": {},
   "outputs": [],
   "source": [
    "from tqdm import tqdm\n",
    "tqdm.pandas(desc=\"progress-bar\")\n",
    "from gensim.models import Doc2Vec\n",
    "from sklearn import utils\n",
    "import gensim\n",
    "from gensim.models.doc2vec import TaggedDocument\n",
    "import re"
   ]
  },
  {
   "cell_type": "code",
   "execution_count": 50,
   "metadata": {},
   "outputs": [],
   "source": [
    "def label_sentences(corpus, label_type):\n",
    "    \"\"\"\n",
    "    Gensim's Doc2Vec implementation requires each document/paragraph to have a label associated with it.\n",
    "    We do this by using the TaggedDocument method. The format will be \"TRAIN_i\" or \"TEST_i\" where \"i\" is\n",
    "    a dummy index of the expense.\n",
    "    \"\"\"\n",
    "    labeled = []\n",
    "    for i, v in enumerate(corpus):\n",
    "        label = label_type + '_' + str(i)\n",
    "        labeled.append(gensim.models.doc2vec.TaggedDocument(v.split(), [label]))\n",
    "    return labeled"
   ]
  },
  {
   "cell_type": "code",
   "execution_count": 51,
   "metadata": {},
   "outputs": [],
   "source": [
    "X_train, X_test, y_train, y_test = train_test_split(train.expense_description, train.Category, random_state=0, test_size=0.25)\n",
    "X_train = label_sentences(X_train, 'Train')\n",
    "X_test = label_sentences(X_test, 'Test')\n",
    "all_data = X_train + X_test"
   ]
  },
  {
   "cell_type": "code",
   "execution_count": 53,
   "metadata": {},
   "outputs": [
    {
     "name": "stderr",
     "output_type": "stream",
     "text": [
      "100%|███████████████████████████████████████████████████████████████████████| 53255/53255 [00:00<00:00, 3814338.45it/s]\n"
     ]
    }
   ],
   "source": [
    "model_dbow = Doc2Vec(dm=0, vector_size=300, negative=5, min_count=1, alpha=0.065, min_alpha=0.065)\n",
    "model_dbow.build_vocab([x for x in tqdm(all_data)])"
   ]
  },
  {
   "cell_type": "code",
   "execution_count": 54,
   "metadata": {},
   "outputs": [
    {
     "name": "stderr",
     "output_type": "stream",
     "text": [
      "100%|███████████████████████████████████████████████████████████████████████| 53255/53255 [00:00<00:00, 3807641.26it/s]\n",
      "100%|███████████████████████████████████████████████████████████████████████| 53255/53255 [00:00<00:00, 3562198.54it/s]\n",
      "100%|███████████████████████████████████████████████████████████████████████| 53255/53255 [00:00<00:00, 3559870.90it/s]\n",
      "100%|███████████████████████████████████████████████████████████████████████| 53255/53255 [00:00<00:00, 3559984.37it/s]\n",
      "100%|███████████████████████████████████████████████████████████████████████| 53255/53255 [00:00<00:00, 4106853.58it/s]\n",
      "100%|███████████████████████████████████████████████████████████████████████| 53255/53255 [00:00<00:00, 4111994.62it/s]\n",
      "100%|███████████████████████████████████████████████████████████████████████| 53255/53255 [00:00<00:00, 3345479.95it/s]\n",
      "100%|███████████████████████████████████████████████████████████████████████| 53255/53255 [00:00<00:00, 1841463.32it/s]\n",
      "100%|███████████████████████████████████████████████████████████████████████| 53255/53255 [00:00<00:00, 2651909.19it/s]\n",
      "100%|███████████████████████████████████████████████████████████████████████| 53255/53255 [00:00<00:00, 3548052.73it/s]\n",
      "100%|███████████████████████████████████████████████████████████████████████| 53255/53255 [00:00<00:00, 3824002.94it/s]\n",
      "100%|███████████████████████████████████████████████████████████████████████| 53255/53255 [00:00<00:00, 3814533.86it/s]\n",
      "100%|███████████████████████████████████████████████████████████████████████| 53255/53255 [00:00<00:00, 3805695.05it/s]\n",
      "100%|███████████████████████████████████████████████████████████████████████| 53255/53255 [00:00<00:00, 1904388.74it/s]\n",
      "100%|███████████████████████████████████████████████████████████████████████| 53255/53255 [00:00<00:00, 3813752.32it/s]\n",
      "100%|███████████████████████████████████████████████████████████████████████| 53255/53255 [00:00<00:00, 1977194.88it/s]\n",
      "100%|███████████████████████████████████████████████████████████████████████| 53255/53255 [00:00<00:00, 1977632.51it/s]\n",
      "100%|███████████████████████████████████████████████████████████████████████| 53255/53255 [00:00<00:00, 3813556.98it/s]\n",
      "100%|███████████████████████████████████████████████████████████████████████| 53255/53255 [00:00<00:00, 3813947.67it/s]\n",
      "100%|███████████████████████████████████████████████████████████████████████| 53255/53255 [00:00<00:00, 3804593.08it/s]\n",
      "100%|███████████████████████████████████████████████████████████████████████| 53255/53255 [00:00<00:00, 3810499.32it/s]\n",
      "100%|███████████████████████████████████████████████████████████████████████| 53255/53255 [00:00<00:00, 3559757.43it/s]\n",
      "100%|███████████████████████████████████████████████████████████████████████| 53255/53255 [00:00<00:00, 4089934.07it/s]\n",
      "100%|███████████████████████████████████████████████████████████████████████| 53255/53255 [00:00<00:00, 3812515.52it/s]\n",
      "100%|███████████████████████████████████████████████████████████████████████| 53255/53255 [00:00<00:00, 4096760.26it/s]\n",
      "100%|███████████████████████████████████████████████████████████████████████| 53255/53255 [00:00<00:00, 3560154.60it/s]\n",
      "100%|███████████████████████████████████████████████████████████████████████| 53255/53255 [00:00<00:00, 3345379.73it/s]\n",
      "100%|███████████████████████████████████████████████████████████████████████| 53255/53255 [00:00<00:00, 3812775.84it/s]\n",
      "100%|███████████████████████████████████████████████████████████████████████| 53255/53255 [00:00<00:00, 3814729.30it/s]\n",
      "100%|███████████████████████████████████████████████████████████████████████| 53255/53255 [00:00<00:00, 3140891.78it/s]\n"
     ]
    },
    {
     "name": "stdout",
     "output_type": "stream",
     "text": [
      "Wall time: 4min 2s\n"
     ]
    }
   ],
   "source": [
    "%%time\n",
    "for epoch in range(30):\n",
    "    model_dbow.train(utils.shuffle([x for x in tqdm(all_data)]), total_examples=len(all_data), epochs=5)\n",
    "    model_dbow.alpha -= 0.002\n",
    "    model_dbow.min_alpha = model_dbow.alpha"
   ]
  },
  {
   "cell_type": "code",
   "execution_count": 55,
   "metadata": {},
   "outputs": [],
   "source": [
    "def get_vectors(model, corpus_size, vectors_size, vectors_type):\n",
    "    \"\"\"\n",
    "    Get vectors from trained doc2vec model\n",
    "    :param doc2vec_model: Trained Doc2Vec model\n",
    "    :param corpus_size: Size of the data\n",
    "    :param vectors_size: Size of the embedding vectors\n",
    "    :param vectors_type: Training or Testing vectors\n",
    "    :return: list of vectors\n",
    "    \"\"\"\n",
    "    vectors = np.zeros((corpus_size, vectors_size))\n",
    "    for i in range(0, corpus_size):\n",
    "        prefix = vectors_type + '_' + str(i)\n",
    "        vectors[i] = model.docvecs[prefix]\n",
    "    return vectors"
   ]
  },
  {
   "cell_type": "code",
   "execution_count": 56,
   "metadata": {},
   "outputs": [],
   "source": [
    "train_vectors_dbow = get_vectors(model_dbow, len(X_train), 300, 'Train')\n",
    "test_vectors_dbow = get_vectors(model_dbow, len(X_test), 300, 'Test')"
   ]
  },
  {
   "cell_type": "code",
   "execution_count": 57,
   "metadata": {},
   "outputs": [
    {
     "name": "stderr",
     "output_type": "stream",
     "text": [
      "C:\\Users\\Krishna.Priya\\anaconda3\\lib\\site-packages\\sklearn\\linear_model\\logistic.py:460: FutureWarning: Default multi_class will be changed to 'auto' in 0.22. Specify the multi_class option to silence this warning.\n",
      "  \"this warning.\", FutureWarning)\n",
      "C:\\Users\\Krishna.Priya\\anaconda3\\lib\\site-packages\\sklearn\\linear_model\\logistic.py:1300: UserWarning: 'n_jobs' > 1 does not have any effect when 'solver' is set to 'liblinear'. Got 'n_jobs' = 8.\n",
      "  \" = {}.\".format(effective_n_jobs(self.n_jobs)))\n"
     ]
    },
    {
     "data": {
      "text/plain": [
       "LogisticRegression(C=100000.0, class_weight=None, dual=False,\n",
       "          fit_intercept=True, intercept_scaling=1, max_iter=100,\n",
       "          multi_class='warn', n_jobs=-1, penalty='l2', random_state=None,\n",
       "          solver='warn', tol=0.0001, verbose=0, warm_start=False)"
      ]
     },
     "execution_count": 57,
     "metadata": {},
     "output_type": "execute_result"
    }
   ],
   "source": [
    "%%time\n",
    "logreg = LogisticRegression(n_jobs=-1, C=1e5)\n",
    "logreg.fit(train_vectors_dbow, y_train)"
   ]
  },
  {
   "cell_type": "code",
   "execution_count": 58,
   "metadata": {},
   "outputs": [
    {
     "name": "stderr",
     "output_type": "stream",
     "text": [
      "C:\\Users\\Krishna.Priya\\anaconda3\\lib\\site-packages\\sklearn\\linear_model\\logistic.py:433: FutureWarning: Default solver will be changed to 'lbfgs' in 0.22. Specify a solver to silence this warning.\n",
      "  FutureWarning)\n",
      "C:\\Users\\Krishna.Priya\\anaconda3\\lib\\site-packages\\sklearn\\linear_model\\logistic.py:460: FutureWarning: Default multi_class will be changed to 'auto' in 0.22. Specify the multi_class option to silence this warning.\n",
      "  \"this warning.\", FutureWarning)\n",
      "C:\\Users\\Krishna.Priya\\anaconda3\\lib\\site-packages\\sklearn\\linear_model\\logistic.py:1300: UserWarning: 'n_jobs' > 1 does not have any effect when 'solver' is set to 'liblinear'. Got 'n_jobs' = 8.\n",
      "  \" = {}.\".format(effective_n_jobs(self.n_jobs)))\n"
     ]
    }
   ],
   "source": [
    "%%time\n",
    "logreg = logreg.fit(train_vectors_dbow, y_train)\n",
    "y_pred = logreg.predict(test_vectors_dbow)"
   ]
  },
  {
   "cell_type": "code",
   "execution_count": 59,
   "metadata": {},
   "outputs": [
    {
     "name": "stdout",
     "output_type": "stream",
     "text": [
      "accuracy 0.8765209553853087\n",
      "                          precision    recall  f1-score   support\n",
      "\n",
      "   Daily Field Allowance       0.86      0.83      0.84      1461\n",
      "     Travelling Expenses       0.84      0.91      0.87       180\n",
      "                Boarding       0.90      0.94      0.92      7161\n",
      "                 Lodging       0.85      0.66      0.74       383\n",
      "  Staff Welfare Expenses       0.53      0.17      0.26        94\n",
      "                 Courier       0.12      0.31      0.17        16\n",
      "         Meal Allowances       0.89      0.86      0.88       224\n",
      "Sales Promotion Expenses       0.85      0.81      0.83      3795\n",
      "\n",
      "               micro avg       0.88      0.88      0.88     13314\n",
      "               macro avg       0.73      0.69      0.69     13314\n",
      "            weighted avg       0.88      0.88      0.87     13314\n",
      "\n"
     ]
    }
   ],
   "source": [
    "print('accuracy %s' % accuracy_score(y_pred, y_test))\n",
    "print(classification_report(y_test, y_pred,target_names=my_categories))"
   ]
  },
  {
   "cell_type": "markdown",
   "metadata": {},
   "source": [
    "# Word2vec and Logistic Regression"
   ]
  },
  {
   "cell_type": "code",
   "execution_count": 60,
   "metadata": {},
   "outputs": [
    {
     "data": {
      "text/plain": [
       "(9373400, 11724240)"
      ]
     },
     "execution_count": 60,
     "metadata": {},
     "output_type": "execute_result"
    }
   ],
   "source": [
    "# Let’s train a Word2Vec model on our corpus.\n",
    "\n",
    "tokenized_expense = train['expense_description'].apply(lambda x: x.split()) #tokenizing\n",
    "\n",
    "model_w2v = gensim.models.Word2Vec(\n",
    "            tokenized_expense,\n",
    "            size=200, # desired no. of features/independent variables\n",
    "            window=5, # context window size\n",
    "            min_count=2,\n",
    "            sg = 1, # 1 for skip-gram model\n",
    "            hs = 0,\n",
    "            negative = 10, # for negative sampling\n",
    "            workers = 8, # no. of cores\n",
    "            seed = 34)\n",
    "\n",
    "model_w2v.train(tokenized_expense, total_examples= len(train['expense_description']), epochs = 20)"
   ]
  },
  {
   "cell_type": "code",
   "execution_count": 61,
   "metadata": {},
   "outputs": [
    {
     "data": {
      "text/plain": [
       "[('restaurants', 0.5369762182235718),\n",
       " ('syeed', 0.530868411064148),\n",
       " ('lunch', 0.5235869288444519),\n",
       " ('sradha', 0.5230610966682434),\n",
       " ('vimrash', 0.522161602973938),\n",
       " ('mandakinee', 0.5182027816772461),\n",
       " ('breakfast', 0.514902651309967),\n",
       " ('sarovar', 0.5142581462860107),\n",
       " ('aahar', 0.5075251460075378),\n",
       " ('snacks', 0.5055705308914185)]"
      ]
     },
     "execution_count": 61,
     "metadata": {},
     "output_type": "execute_result"
    }
   ],
   "source": [
    "model_w2v.wv.most_similar(positive='dinner')"
   ]
  },
  {
   "cell_type": "code",
   "execution_count": 62,
   "metadata": {},
   "outputs": [],
   "source": [
    "wv = model_w2v"
   ]
  },
  {
   "cell_type": "code",
   "execution_count": 63,
   "metadata": {},
   "outputs": [],
   "source": [
    "wv.init_sims(replace=True)"
   ]
  },
  {
   "cell_type": "code",
   "execution_count": 65,
   "metadata": {},
   "outputs": [],
   "source": [
    "def word_vector(tokens, size):\n",
    "    vec = np.zeros(size).reshape((1,size))\n",
    "    count = 0.\n",
    "    for word in tokens:\n",
    "        try:\n",
    "            vec +=model_w2v[word].reshape((1,size))\n",
    "            count +=1.\n",
    "        except KeyError: # handling the case where the token is not in vocabulary \n",
    "                        continue\n",
    "    if count !=0:\n",
    "        vec /=count\n",
    "    return vec"
   ]
  },
  {
   "cell_type": "code",
   "execution_count": 67,
   "metadata": {},
   "outputs": [
    {
     "data": {
      "text/plain": [
       "(53255, 200)"
      ]
     },
     "execution_count": 67,
     "metadata": {},
     "output_type": "execute_result"
    }
   ],
   "source": [
    "# Preparing word2vec feature set\n",
    "\n",
    "wordvec_arrays = np.zeros((len(tokenized_expense), 200))\n",
    "for i in range (len(tokenized_expense)):\n",
    "    wordvec_arrays[i,:] = word_vector(tokenized_expense[i], 200)\n",
    "    wordvec_df = pd.DataFrame(wordvec_arrays)\n",
    "wordvec_df.shape"
   ]
  },
  {
   "cell_type": "code",
   "execution_count": 68,
   "metadata": {},
   "outputs": [
    {
     "name": "stderr",
     "output_type": "stream",
     "text": [
      "C:\\Users\\Krishna.Priya\\anaconda3\\lib\\site-packages\\sklearn\\linear_model\\logistic.py:433: FutureWarning: Default solver will be changed to 'lbfgs' in 0.22. Specify a solver to silence this warning.\n",
      "  FutureWarning)\n",
      "C:\\Users\\Krishna.Priya\\anaconda3\\lib\\site-packages\\sklearn\\linear_model\\logistic.py:460: FutureWarning: Default multi_class will be changed to 'auto' in 0.22. Specify the multi_class option to silence this warning.\n",
      "  \"this warning.\", FutureWarning)\n",
      "C:\\Users\\Krishna.Priya\\anaconda3\\lib\\site-packages\\sklearn\\linear_model\\logistic.py:1300: UserWarning: 'n_jobs' > 1 does not have any effect when 'solver' is set to 'liblinear'. Got 'n_jobs' = 8.\n",
      "  \" = {}.\".format(effective_n_jobs(self.n_jobs)))\n"
     ]
    },
    {
     "name": "stdout",
     "output_type": "stream",
     "text": [
      "Wall time: 30.8 s\n"
     ]
    }
   ],
   "source": [
    "%%time\n",
    "from sklearn.linear_model import LogisticRegression\n",
    "\n",
    "xtrain_w2v, xvalid_w2v, ytrain, yvalid = train_test_split(wordvec_df, train.Category, random_state=42, test_size=0.25, stratify=train.Category)\n",
    "\n",
    "logreg = LogisticRegression(n_jobs=-1, C=1e5)\n",
    "logreg = logreg.fit(xtrain_w2v, ytrain)\n",
    "y_pred = logreg.predict(xvalid_w2v)"
   ]
  },
  {
   "cell_type": "code",
   "execution_count": 69,
   "metadata": {},
   "outputs": [
    {
     "name": "stdout",
     "output_type": "stream",
     "text": [
      "accuracy 0.9010815682739973\n",
      "                          precision    recall  f1-score   support\n",
      "\n",
      "   Daily Field Allowance       0.87      0.86      0.87      1496\n",
      "     Travelling Expenses       0.96      0.90      0.93       167\n",
      "                Boarding       0.92      0.97      0.94      7179\n",
      "                 Lodging       0.92      0.65      0.76       368\n",
      "  Staff Welfare Expenses       0.57      0.20      0.29        87\n",
      "                 Courier       0.50      0.19      0.28        21\n",
      "         Meal Allowances       0.96      0.90      0.93       211\n",
      "Sales Promotion Expenses       0.88      0.84      0.86      3785\n",
      "\n",
      "               micro avg       0.90      0.90      0.90     13314\n",
      "               macro avg       0.82      0.69      0.73     13314\n",
      "            weighted avg       0.90      0.90      0.90     13314\n",
      "\n"
     ]
    }
   ],
   "source": [
    "print('accuracy %s' % accuracy_score(y_pred, yvalid))\n",
    "print(classification_report(yvalid, y_pred,target_names=my_categories))"
   ]
  },
  {
   "cell_type": "code",
   "execution_count": 70,
   "metadata": {},
   "outputs": [],
   "source": [
    "test = pd.read_csv('test_data.csv')"
   ]
  },
  {
   "cell_type": "code",
   "execution_count": 72,
   "metadata": {
    "scrolled": false
   },
   "outputs": [
    {
     "data": {
      "text/html": [
       "<div>\n",
       "<style scoped>\n",
       "    .dataframe tbody tr th:only-of-type {\n",
       "        vertical-align: middle;\n",
       "    }\n",
       "\n",
       "    .dataframe tbody tr th {\n",
       "        vertical-align: top;\n",
       "    }\n",
       "\n",
       "    .dataframe thead th {\n",
       "        text-align: right;\n",
       "    }\n",
       "</style>\n",
       "<table border=\"1\" class=\"dataframe\">\n",
       "  <thead>\n",
       "    <tr style=\"text-align: right;\">\n",
       "      <th></th>\n",
       "      <th>txn_id</th>\n",
       "      <th>description</th>\n",
       "      <th>payee_merchant</th>\n",
       "      <th>Category</th>\n",
       "      <th>expense_description</th>\n",
       "    </tr>\n",
       "  </thead>\n",
       "  <tbody>\n",
       "    <tr>\n",
       "      <th>0</th>\n",
       "      <td>HPVCL2018125133122718952586HP</td>\n",
       "      <td>PROCESS AS PER REQUEST  PLS SUBMIT UR TRAVEL CLAIM FOR EARLIER PERIOD TO PROCESS NEW MONEY REQUEST</td>\n",
       "      <td>Wallet load</td>\n",
       "      <td>Category not found</td>\n",
       "      <td>process per request pls submit travel claim earlier period process new money request wallet load</td>\n",
       "    </tr>\n",
       "    <tr>\n",
       "      <th>1</th>\n",
       "      <td>HPVCT201812610509887694821HP</td>\n",
       "      <td>NaN</td>\n",
       "      <td>Fuel  Daya Petroleum Calicut IN</td>\n",
       "      <td>Category not found</td>\n",
       "      <td>fuel daya petroleum calicut</td>\n",
       "    </tr>\n",
       "    <tr>\n",
       "      <th>2</th>\n",
       "      <td>HPVCT201812610513668632314HP</td>\n",
       "      <td>NaN</td>\n",
       "      <td>Surcharge  Fuel  Daya Petroleum Calicut IN</td>\n",
       "      <td>Category not found</td>\n",
       "      <td>surcharge fuel daya petroleum calicut</td>\n",
       "    </tr>\n",
       "    <tr>\n",
       "      <th>3</th>\n",
       "      <td>HPVCT2018225641309134132757HP</td>\n",
       "      <td>NaN</td>\n",
       "      <td>Fuel  SHANKAR AGENCIES TIRUNELVELI IN</td>\n",
       "      <td>Category not found</td>\n",
       "      <td>fuel shankar agencies tirunelveli</td>\n",
       "    </tr>\n",
       "    <tr>\n",
       "      <th>4</th>\n",
       "      <td>HPVCT2018224102717887296487HP</td>\n",
       "      <td>NaN</td>\n",
       "      <td>HOTEL JAYA KOZHIKODE IN</td>\n",
       "      <td>Category not found</td>\n",
       "      <td>hotel jaya kozhikode</td>\n",
       "    </tr>\n",
       "  </tbody>\n",
       "</table>\n",
       "</div>"
      ],
      "text/plain": [
       "                          txn_id  \\\n",
       "0  HPVCL2018125133122718952586HP   \n",
       "1   HPVCT201812610509887694821HP   \n",
       "2   HPVCT201812610513668632314HP   \n",
       "3  HPVCT2018225641309134132757HP   \n",
       "4  HPVCT2018224102717887296487HP   \n",
       "\n",
       "                                                                                          description  \\\n",
       "0  PROCESS AS PER REQUEST  PLS SUBMIT UR TRAVEL CLAIM FOR EARLIER PERIOD TO PROCESS NEW MONEY REQUEST   \n",
       "1                                                                                                 NaN   \n",
       "2                                                                                                 NaN   \n",
       "3                                                                                                 NaN   \n",
       "4                                                                                                 NaN   \n",
       "\n",
       "                               payee_merchant            Category  \\\n",
       "0                                 Wallet load  Category not found   \n",
       "1             Fuel  Daya Petroleum Calicut IN  Category not found   \n",
       "2  Surcharge  Fuel  Daya Petroleum Calicut IN  Category not found   \n",
       "3       Fuel  SHANKAR AGENCIES TIRUNELVELI IN  Category not found   \n",
       "4                     HOTEL JAYA KOZHIKODE IN  Category not found   \n",
       "\n",
       "                                                                                expense_description  \n",
       "0  process per request pls submit travel claim earlier period process new money request wallet load  \n",
       "1                                                                       fuel daya petroleum calicut  \n",
       "2                                                             surcharge fuel daya petroleum calicut  \n",
       "3                                                                 fuel shankar agencies tirunelveli  \n",
       "4                                                                              hotel jaya kozhikode  "
      ]
     },
     "execution_count": 72,
     "metadata": {},
     "output_type": "execute_result"
    }
   ],
   "source": [
    "test.head()"
   ]
  },
  {
   "cell_type": "code",
   "execution_count": 75,
   "metadata": {},
   "outputs": [],
   "source": [
    "# pred_w2v_lr = logreg.predict(test.expense_description)"
   ]
  },
  {
   "cell_type": "code",
   "execution_count": null,
   "metadata": {},
   "outputs": [],
   "source": []
  }
 ],
 "metadata": {
  "kernelspec": {
   "display_name": "Python 3",
   "language": "python",
   "name": "python3"
  },
  "language_info": {
   "codemirror_mode": {
    "name": "ipython",
    "version": 3
   },
   "file_extension": ".py",
   "mimetype": "text/x-python",
   "name": "python",
   "nbconvert_exporter": "python",
   "pygments_lexer": "ipython3",
   "version": "3.6.8"
  }
 },
 "nbformat": 4,
 "nbformat_minor": 2
}
